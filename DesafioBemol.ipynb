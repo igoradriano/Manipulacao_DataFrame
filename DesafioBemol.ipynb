{
  "nbformat": 4,
  "nbformat_minor": 0,
  "metadata": {
    "colab": {
      "name": "DesafioBemol.ipynb",
      "provenance": [],
      "collapsed_sections": [],
      "authorship_tag": "ABX9TyP82IUmpqmC66H1rHeCaEgk",
      "include_colab_link": true
    },
    "kernelspec": {
      "name": "python3",
      "display_name": "Python 3"
    },
    "language_info": {
      "name": "python"
    }
  },
  "cells": [
    {
      "cell_type": "markdown",
      "metadata": {
        "id": "view-in-github",
        "colab_type": "text"
      },
      "source": [
        "<a href=\"https://colab.research.google.com/github/igoradriano/Manipulacao_DataFrame/blob/main/DesafioBemol.ipynb\" target=\"_parent\"><img src=\"https://colab.research.google.com/assets/colab-badge.svg\" alt=\"Open In Colab\"/></a>"
      ]
    },
    {
      "cell_type": "markdown",
      "metadata": {
        "id": "E6h7EU06ymM7"
      },
      "source": [
        "# **0. IMPORTANDO BIBLIOTECAS**"
      ]
    },
    {
      "cell_type": "code",
      "metadata": {
        "id": "gno2bTE8MrJ9"
      },
      "source": [
        "import pandas as pd\n",
        "import matplotlib.pyplot as plt\n",
        "import numpy as np\n",
        "import seaborn as sns"
      ],
      "execution_count": null,
      "outputs": []
    },
    {
      "cell_type": "markdown",
      "metadata": {
        "id": "MkfAbQ275zNE"
      },
      "source": [
        "# **0.1 FUNÇÕES IMPORTANTES**\n"
      ]
    },
    {
      "cell_type": "markdown",
      "metadata": {
        "id": "d2MHShuu59Bl"
      },
      "source": [
        "# Gráfico em pizza"
      ]
    },
    {
      "cell_type": "code",
      "metadata": {
        "id": "qUU5xxQ-5wJ_"
      },
      "source": [
        "def plotar_grafico_pizza(df,ocorr,lab,x=2,explode=[],title='TITULO'):\n",
        "  fig = plt.figure(figsize=(10,7))\n",
        "  ax1 = fig.add_subplot(111)\n",
        "  ocorrencia = []\n",
        "  labels = []\n",
        "  for i in df.index: \n",
        "      if i > x:\n",
        "        break\n",
        "      else:\n",
        "        ocorrencia.append(df[ocorr][i])\n",
        "        labels.append(df[lab][i])\n",
        "        \n",
        "\n",
        "  if len(explode) == 0:\n",
        "    for i in df.index:\n",
        "      if i > x:\n",
        "        break\n",
        "      else:\n",
        "        explode.append(i*0.05)\n",
        "          \n",
        "\n",
        "  cores = ['lightblue', 'green', 'yellow', 'red']\n",
        "  total = sum(ocorrencia)\n",
        "  plt.pie(ocorrencia, explode=explode, labels=labels, colors=cores, autopct=lambda p: f'{(p * total / 100):.2f}%', shadow=True, startangle=90)\n",
        "  plt.axis('equal') \n",
        "  # Cria um título para o gráfico\n",
        "  ax1.set_title(title, fontsize=15) \n",
        "  ax1.legend(bbox_to_anchor=(1,0), loc=\"lower right\", bbox_transform=fig.transFigure) #legenda em posicao especifica\n",
        "  \n",
        "  plt.show()"
      ],
      "execution_count": null,
      "outputs": []
    },
    {
      "cell_type": "markdown",
      "metadata": {
        "id": "ZczwaCp06HNH"
      },
      "source": [
        "# Gráfico de Dispersão"
      ]
    },
    {
      "cell_type": "code",
      "metadata": {
        "id": "2Ssc6U0uYHR1"
      },
      "source": [
        "def grafico_dispersao(df1,df2,ocorr,lab,title):\n",
        "   #fig, axes = plt.subplots(nrows=1, ncols=1, figsize=(13, 5)) define a quantidade de gráficos em suplot\n",
        "   fig = plt.figure(figsize=(15,15))\n",
        "   axes = fig.add_subplot(111)\n",
        "   x1 = []\n",
        "   y1 = []\n",
        "   x2 = []\n",
        "   y2 = []\n",
        "   explode = []\n",
        "   for i in df_deb.index:\n",
        "     x1.append(df1[ocorr][i])\n",
        "     y1.append(df1[lab][i])\n",
        "   for i in df_cred.index:\n",
        "     x2.append(df2[ocorr][i])\n",
        "     y2.append(df2[lab][i])\n",
        "           \n",
        "   # cria rótulo no eixo x\n",
        "   axes.set_xlabel( 'Data da Movimentação', color='b')\n",
        "   # cria rótulo no eixo y\n",
        "   axes.set_ylabel( 'Valor Movimentado (BRL)', color='b') \n",
        "   # Cria um título para o gráfico\n",
        "   axes.set_title(title) \n",
        "\n",
        "   #PRIMEIRO GRÁFICO\n",
        "   axes.scatter(x1,y1,color='green',s=5,edgecolor='none')\n",
        "   #deixa os eixos quadrados\n",
        "   axes.set_aspect(1./axes.get_data_ratio()) \n",
        "\n",
        "   #SEGUNDO GRÁFICO\n",
        "   axes.scatter(x2,y2,color='red',s=5,edgecolor='none')\n",
        "   #deixa os eixos quadrados\n",
        "   axes.set_aspect(1./axes.get_data_ratio())\n",
        " \n",
        "\n",
        "   plt.show()\n",
        "   "
      ],
      "execution_count": null,
      "outputs": []
    },
    {
      "cell_type": "markdown",
      "metadata": {
        "id": "8FtSGlv96kJJ"
      },
      "source": [
        "# Gráfico em Barras"
      ]
    },
    {
      "cell_type": "code",
      "metadata": {
        "id": "wQ5nkxp56bxr"
      },
      "source": [
        "def grafico_barras(df, ocorr, lab, lab2):\n",
        "  x = []\n",
        "  y = []\n",
        "  z = []\n",
        "  w = []\n",
        "  a = []\n",
        "  for i in df.index: \n",
        "      if i > 5:\n",
        "        break\n",
        "      else:\n",
        "        #cria os dados\n",
        "        x.append(df[ocorr][i])\n",
        "        y.append(df[lab][i])\n",
        "        z.append(df[lab2][i])\n",
        "        w.append(df[lab][i] + df[lab][i])\n",
        "        a.append(df[lab][i]/(df[lab][i] + df[lab2][i]) )\n",
        "\n",
        "      \n",
        "  #cria a figura e o eixo\n",
        "  fig = plt.figure(figsize=(10,7))\n",
        "  ax1 = fig.add_subplot(111)\n",
        "\n",
        "  def plot_bar(x, vals, width= 0.8):\n",
        "    n = len(vals)\n",
        "    _x = np.arange(len(x))\n",
        "    for i in range(n):\n",
        "        ax1.bar(_x - width/2. + i / float(n) * width, vals[i], width=width/float(n), align=\"edge\")\n",
        "    plt.xticks(_x, x)\n",
        "\n",
        "  ax1.set_ylabel( 'Valor Movimentado (BRL)', color='b') #cria o rótula do primeiro eixo\n",
        "  plot_bar(x, [z,y])\n",
        "  ax2 = ax1.twinx() # cria o segundo eixo\n",
        "  plt.legend()\n",
        "  \n",
        "  ax2.set_ylabel('média', color='b') #cria o rótula do segundo eixo\n",
        "  ax2.plot(a, color='b')\n",
        "  ax2.tick_params(axis='y', labelcolor='b')\n",
        "\n",
        "\n",
        "  plt.show()"
      ],
      "execution_count": null,
      "outputs": []
    },
    {
      "cell_type": "markdown",
      "metadata": {
        "id": "iJYawc_KuJmE"
      },
      "source": [
        "# Gráfico de Linhas"
      ]
    },
    {
      "cell_type": "code",
      "metadata": {
        "id": "og1CT-7buI3a"
      },
      "source": [
        "def grafico_linhas(df, titulo='TITULO',xlabel=\"X\",ylabel=\"Y\"): \n",
        "  fig = plt.figure(figsize=(10,7))\n",
        "  ax1 = fig.add_subplot(111)\n",
        "\n",
        "  todasLinhas = df.values.tolist()\n",
        "  x = df.columns.values\n",
        "  x = x[1:6]\n",
        "  for linha in todasLinhas:\n",
        "    plt.plot(x,linha[1:6], label= linha[0] )\n",
        "  #plt.ylim(0, 100000)  define o intervalo do eixo y\n",
        "  #plt.yticks(np.linspace(0, 10, 500, endpoint=True)) # Define as marcas em y\n",
        "  plt.title(titulo,fontsize=15)\n",
        "  plt.xlabel(xlabel,fontsize=13)\n",
        "  plt.ylabel(ylabel,fontsize=13)\n",
        "  plt.legend()\n",
        "  plt.show()\n"
      ],
      "execution_count": null,
      "outputs": []
    },
    {
      "cell_type": "markdown",
      "metadata": {
        "id": "O9nkxflQMk9F"
      },
      "source": [
        "# **1. MANIPULAÇÃO DE DADOS**\n",
        "Desafio Bemol Data Analyst\n"
      ]
    },
    {
      "cell_type": "code",
      "metadata": {
        "id": "x7-nZ37kMuv7"
      },
      "source": [
        "df_clientes = pd.read_csv('Dados_vale_credito_tabela1.csv', sep=',', skiprows=0, encoding='utf-8')\n",
        "df_transacoes = pd.read_csv('Dados_vale_credito_tabela2.csv', sep=',', skiprows=0, encoding='utf-8')"
      ],
      "execution_count": null,
      "outputs": []
    },
    {
      "cell_type": "code",
      "metadata": {
        "colab": {
          "base_uri": "https://localhost:8080/",
          "height": 419
        },
        "id": "hZEL1H8KN3jq",
        "outputId": "96523630-9d4f-424c-c887-db4d6554d017"
      },
      "source": [
        "df_clientes.sort_values(['CLIENTE'], ascending =[True] )\n"
      ],
      "execution_count": null,
      "outputs": [
        {
          "output_type": "execute_result",
          "data": {
            "text/html": [
              "<div>\n",
              "<style scoped>\n",
              "    .dataframe tbody tr th:only-of-type {\n",
              "        vertical-align: middle;\n",
              "    }\n",
              "\n",
              "    .dataframe tbody tr th {\n",
              "        vertical-align: top;\n",
              "    }\n",
              "\n",
              "    .dataframe thead th {\n",
              "        text-align: right;\n",
              "    }\n",
              "</style>\n",
              "<table border=\"1\" class=\"dataframe\">\n",
              "  <thead>\n",
              "    <tr style=\"text-align: right;\">\n",
              "      <th></th>\n",
              "      <th>CLIENTE</th>\n",
              "      <th>IDNIVEL</th>\n",
              "      <th>DESCRICAO_NIVEL</th>\n",
              "      <th>SALDO_VC</th>\n",
              "      <th>DT_MUDANCA_PEDRA</th>\n",
              "    </tr>\n",
              "  </thead>\n",
              "  <tbody>\n",
              "    <tr>\n",
              "      <th>213</th>\n",
              "      <td>146</td>\n",
              "      <td>5</td>\n",
              "      <td>DIAMANTE+</td>\n",
              "      <td>1.54</td>\n",
              "      <td>2020-06-18</td>\n",
              "    </tr>\n",
              "    <tr>\n",
              "      <th>221</th>\n",
              "      <td>1791</td>\n",
              "      <td>3</td>\n",
              "      <td>OURO</td>\n",
              "      <td>0.85</td>\n",
              "      <td>2020-05-31</td>\n",
              "    </tr>\n",
              "    <tr>\n",
              "      <th>224</th>\n",
              "      <td>2515</td>\n",
              "      <td>3</td>\n",
              "      <td>OURO</td>\n",
              "      <td>17.57</td>\n",
              "      <td>2020-05-18</td>\n",
              "    </tr>\n",
              "    <tr>\n",
              "      <th>226</th>\n",
              "      <td>2784</td>\n",
              "      <td>4</td>\n",
              "      <td>DIAMANTE</td>\n",
              "      <td>2.24</td>\n",
              "      <td>2020-06-12</td>\n",
              "    </tr>\n",
              "    <tr>\n",
              "      <th>160</th>\n",
              "      <td>4975</td>\n",
              "      <td>5</td>\n",
              "      <td>DIAMANTE+</td>\n",
              "      <td>2.45</td>\n",
              "      <td>2020-05-30</td>\n",
              "    </tr>\n",
              "    <tr>\n",
              "      <th>...</th>\n",
              "      <td>...</td>\n",
              "      <td>...</td>\n",
              "      <td>...</td>\n",
              "      <td>...</td>\n",
              "      <td>...</td>\n",
              "    </tr>\n",
              "    <tr>\n",
              "      <th>574</th>\n",
              "      <td>2059263</td>\n",
              "      <td>3</td>\n",
              "      <td>OURO</td>\n",
              "      <td>2.74</td>\n",
              "      <td>2020-06-27</td>\n",
              "    </tr>\n",
              "    <tr>\n",
              "      <th>578</th>\n",
              "      <td>2231420</td>\n",
              "      <td>5</td>\n",
              "      <td>DIAMANTE+</td>\n",
              "      <td>0.52</td>\n",
              "      <td>2020-06-10</td>\n",
              "    </tr>\n",
              "    <tr>\n",
              "      <th>503</th>\n",
              "      <td>2231495</td>\n",
              "      <td>3</td>\n",
              "      <td>OURO</td>\n",
              "      <td>0.65</td>\n",
              "      <td>2020-05-22</td>\n",
              "    </tr>\n",
              "    <tr>\n",
              "      <th>579</th>\n",
              "      <td>2523520</td>\n",
              "      <td>3</td>\n",
              "      <td>OURO</td>\n",
              "      <td>0.70</td>\n",
              "      <td>2020-07-02</td>\n",
              "    </tr>\n",
              "    <tr>\n",
              "      <th>888</th>\n",
              "      <td>2569414</td>\n",
              "      <td>2</td>\n",
              "      <td>PRATA</td>\n",
              "      <td>0.89</td>\n",
              "      <td>2020-05-30</td>\n",
              "    </tr>\n",
              "  </tbody>\n",
              "</table>\n",
              "<p>1000 rows × 5 columns</p>\n",
              "</div>"
            ],
            "text/plain": [
              "     CLIENTE  IDNIVEL DESCRICAO_NIVEL  SALDO_VC DT_MUDANCA_PEDRA\n",
              "213      146        5       DIAMANTE+      1.54       2020-06-18\n",
              "221     1791        3            OURO      0.85       2020-05-31\n",
              "224     2515        3            OURO     17.57       2020-05-18\n",
              "226     2784        4        DIAMANTE      2.24       2020-06-12\n",
              "160     4975        5       DIAMANTE+      2.45       2020-05-30\n",
              "..       ...      ...             ...       ...              ...\n",
              "574  2059263        3            OURO      2.74       2020-06-27\n",
              "578  2231420        5       DIAMANTE+      0.52       2020-06-10\n",
              "503  2231495        3            OURO      0.65       2020-05-22\n",
              "579  2523520        3            OURO      0.70       2020-07-02\n",
              "888  2569414        2           PRATA      0.89       2020-05-30\n",
              "\n",
              "[1000 rows x 5 columns]"
            ]
          },
          "metadata": {
            "tags": []
          },
          "execution_count": 7
        }
      ]
    },
    {
      "cell_type": "code",
      "metadata": {
        "colab": {
          "base_uri": "https://localhost:8080/",
          "height": 439
        },
        "id": "H440Ddx3O8-P",
        "outputId": "738319ff-a1d7-4b5b-fbbb-003f9462709e"
      },
      "source": [
        "df_transacoes.sort_values(['CLIENTE'] ,ascending = [True])"
      ],
      "execution_count": null,
      "outputs": [
        {
          "output_type": "execute_result",
          "data": {
            "text/html": [
              "<div>\n",
              "<style scoped>\n",
              "    .dataframe tbody tr th:only-of-type {\n",
              "        vertical-align: middle;\n",
              "    }\n",
              "\n",
              "    .dataframe tbody tr th {\n",
              "        vertical-align: top;\n",
              "    }\n",
              "\n",
              "    .dataframe thead th {\n",
              "        text-align: right;\n",
              "    }\n",
              "</style>\n",
              "<table border=\"1\" class=\"dataframe\">\n",
              "  <thead>\n",
              "    <tr style=\"text-align: right;\">\n",
              "      <th></th>\n",
              "      <th>CLIENTE</th>\n",
              "      <th>DEBITO_OU_CREDITO</th>\n",
              "      <th>TIPO_TRANSACAO_VC</th>\n",
              "      <th>ID_LISTA_PRESENTES</th>\n",
              "      <th>PEDIDO_BOL</th>\n",
              "      <th>VALOR_MOVIMENTADO</th>\n",
              "      <th>SALDO</th>\n",
              "      <th>MOEDA</th>\n",
              "      <th>DATA_DA_MOVIMENTACAO</th>\n",
              "      <th>FATURA</th>\n",
              "      <th>DATA_CRIACAO</th>\n",
              "      <th>LOJA</th>\n",
              "    </tr>\n",
              "  </thead>\n",
              "  <tbody>\n",
              "    <tr>\n",
              "      <th>355954</th>\n",
              "      <td>10</td>\n",
              "      <td>CREDITO</td>\n",
              "      <td>CREDITO_POR_TROCO</td>\n",
              "      <td>0</td>\n",
              "      <td>0</td>\n",
              "      <td>1.99</td>\n",
              "      <td>2.23</td>\n",
              "      <td>BRL</td>\n",
              "      <td>2017-12-22</td>\n",
              "      <td>145002414.0</td>\n",
              "      <td>2017-12-22</td>\n",
              "      <td>103.0</td>\n",
              "    </tr>\n",
              "    <tr>\n",
              "      <th>79751</th>\n",
              "      <td>24</td>\n",
              "      <td>CREDITO</td>\n",
              "      <td>CREDITO_POR_TROCO</td>\n",
              "      <td>0</td>\n",
              "      <td>0</td>\n",
              "      <td>0.34</td>\n",
              "      <td>0.34</td>\n",
              "      <td>BRL</td>\n",
              "      <td>2017-02-01</td>\n",
              "      <td>140154491.0</td>\n",
              "      <td>2017-02-01</td>\n",
              "      <td>107.0</td>\n",
              "    </tr>\n",
              "    <tr>\n",
              "      <th>290546</th>\n",
              "      <td>49</td>\n",
              "      <td>DEBITO</td>\n",
              "      <td>DEBITO_AUTOMATICO_PAG_PRESTACOES</td>\n",
              "      <td>0</td>\n",
              "      <td>0</td>\n",
              "      <td>-1.26</td>\n",
              "      <td>0.00</td>\n",
              "      <td>BRL</td>\n",
              "      <td>2020-09-27</td>\n",
              "      <td>NaN</td>\n",
              "      <td>2020-09-27</td>\n",
              "      <td>100.0</td>\n",
              "    </tr>\n",
              "    <tr>\n",
              "      <th>73811</th>\n",
              "      <td>49</td>\n",
              "      <td>DEBITO</td>\n",
              "      <td>DEBITO_PAGAMENTO_COM_VC</td>\n",
              "      <td>0</td>\n",
              "      <td>0</td>\n",
              "      <td>-0.46</td>\n",
              "      <td>0.51</td>\n",
              "      <td>BRL</td>\n",
              "      <td>2017-04-27</td>\n",
              "      <td>NaN</td>\n",
              "      <td>2017-04-27</td>\n",
              "      <td>106.0</td>\n",
              "    </tr>\n",
              "    <tr>\n",
              "      <th>112025</th>\n",
              "      <td>54</td>\n",
              "      <td>CREDITO</td>\n",
              "      <td>CREDITO_POR_TROCO</td>\n",
              "      <td>0</td>\n",
              "      <td>0</td>\n",
              "      <td>0.16</td>\n",
              "      <td>302.26</td>\n",
              "      <td>BRL</td>\n",
              "      <td>2020-09-16</td>\n",
              "      <td>165079774.0</td>\n",
              "      <td>2020-09-16</td>\n",
              "      <td>116.0</td>\n",
              "    </tr>\n",
              "    <tr>\n",
              "      <th>...</th>\n",
              "      <td>...</td>\n",
              "      <td>...</td>\n",
              "      <td>...</td>\n",
              "      <td>...</td>\n",
              "      <td>...</td>\n",
              "      <td>...</td>\n",
              "      <td>...</td>\n",
              "      <td>...</td>\n",
              "      <td>...</td>\n",
              "      <td>...</td>\n",
              "      <td>...</td>\n",
              "      <td>...</td>\n",
              "    </tr>\n",
              "    <tr>\n",
              "      <th>362403</th>\n",
              "      <td>3968226</td>\n",
              "      <td>CREDITO</td>\n",
              "      <td>CREDITO_GERADO_POR_COMPRA_DE_VC</td>\n",
              "      <td>0</td>\n",
              "      <td>0</td>\n",
              "      <td>1.66</td>\n",
              "      <td>1.66</td>\n",
              "      <td>BRL</td>\n",
              "      <td>2020-10-13</td>\n",
              "      <td>165829901.0</td>\n",
              "      <td>2020-10-13</td>\n",
              "      <td>510.0</td>\n",
              "    </tr>\n",
              "    <tr>\n",
              "      <th>34790</th>\n",
              "      <td>3968558</td>\n",
              "      <td>CREDITO</td>\n",
              "      <td>CREDITO_POR_TROCO</td>\n",
              "      <td>0</td>\n",
              "      <td>0</td>\n",
              "      <td>0.67</td>\n",
              "      <td>0.67</td>\n",
              "      <td>BRL</td>\n",
              "      <td>2020-10-13</td>\n",
              "      <td>165850453.0</td>\n",
              "      <td>2020-10-13</td>\n",
              "      <td>510.0</td>\n",
              "    </tr>\n",
              "    <tr>\n",
              "      <th>150910</th>\n",
              "      <td>3968712</td>\n",
              "      <td>CREDITO</td>\n",
              "      <td>CREDITO_POR_TROCO</td>\n",
              "      <td>0</td>\n",
              "      <td>0</td>\n",
              "      <td>0.15</td>\n",
              "      <td>0.15</td>\n",
              "      <td>BRL</td>\n",
              "      <td>2020-10-14</td>\n",
              "      <td>165860491.0</td>\n",
              "      <td>2020-10-14</td>\n",
              "      <td>109.0</td>\n",
              "    </tr>\n",
              "    <tr>\n",
              "      <th>324377</th>\n",
              "      <td>3968943</td>\n",
              "      <td>CREDITO</td>\n",
              "      <td>CREDITO_POR_TROCO</td>\n",
              "      <td>0</td>\n",
              "      <td>0</td>\n",
              "      <td>1.34</td>\n",
              "      <td>1.34</td>\n",
              "      <td>BRL</td>\n",
              "      <td>2020-10-15</td>\n",
              "      <td>165905309.0</td>\n",
              "      <td>2020-10-15</td>\n",
              "      <td>401.0</td>\n",
              "    </tr>\n",
              "    <tr>\n",
              "      <th>168366</th>\n",
              "      <td>3970114</td>\n",
              "      <td>CREDITO</td>\n",
              "      <td>CREDITO_POR_TROCO</td>\n",
              "      <td>0</td>\n",
              "      <td>0</td>\n",
              "      <td>0.85</td>\n",
              "      <td>0.85</td>\n",
              "      <td>BRL</td>\n",
              "      <td>2020-10-17</td>\n",
              "      <td>165958418.0</td>\n",
              "      <td>2020-10-17</td>\n",
              "      <td>401.0</td>\n",
              "    </tr>\n",
              "  </tbody>\n",
              "</table>\n",
              "<p>380324 rows × 12 columns</p>\n",
              "</div>"
            ],
            "text/plain": [
              "        CLIENTE DEBITO_OU_CREDITO  ... DATA_CRIACAO   LOJA\n",
              "355954       10           CREDITO  ...   2017-12-22  103.0\n",
              "79751        24           CREDITO  ...   2017-02-01  107.0\n",
              "290546       49            DEBITO  ...   2020-09-27  100.0\n",
              "73811        49            DEBITO  ...   2017-04-27  106.0\n",
              "112025       54           CREDITO  ...   2020-09-16  116.0\n",
              "...         ...               ...  ...          ...    ...\n",
              "362403  3968226           CREDITO  ...   2020-10-13  510.0\n",
              "34790   3968558           CREDITO  ...   2020-10-13  510.0\n",
              "150910  3968712           CREDITO  ...   2020-10-14  109.0\n",
              "324377  3968943           CREDITO  ...   2020-10-15  401.0\n",
              "168366  3970114           CREDITO  ...   2020-10-17  401.0\n",
              "\n",
              "[380324 rows x 12 columns]"
            ]
          },
          "metadata": {
            "tags": []
          },
          "execution_count": 8
        }
      ]
    },
    {
      "cell_type": "markdown",
      "metadata": {
        "id": "vGo1KWVk5yiD"
      },
      "source": [
        "# **1.1 DISTRIBUIÇÃO DÉBITOS**"
      ]
    },
    {
      "cell_type": "code",
      "metadata": {
        "colab": {
          "base_uri": "https://localhost:8080/",
          "height": 893
        },
        "id": "hwgIXKGYHFcs",
        "outputId": "9255468f-58ec-4218-a63d-8010360a838b"
      },
      "source": [
        "df_deb = df_transacoes[(df_transacoes['DEBITO_OU_CREDITO']) == 'DEBITO'].copy()\n",
        "df_cred = df_transacoes[(df_transacoes['DEBITO_OU_CREDITO']) == 'CREDITO'].copy()\n",
        "grafico_dispersao(df_deb,df_cred,\"DATA_DA_MOVIMENTACAO\",'VALOR_MOVIMENTADO',\"Débitos e Créditos no Tempo\")"
      ],
      "execution_count": null,
      "outputs": [
        {
          "output_type": "display_data",
          "data": {
            "image/png": "[encoded data removed]",
            "text/plain": [
              "<Figure size 1080x1080 with 1 Axes>"
            ]
          },
          "metadata": {
            "tags": [],
            "needs_background": "light"
          }
        }
      ]
    },
    {
      "cell_type": "markdown",
      "metadata": {
        "id": "QYgFc3c-PVbt"
      },
      "source": [
        "# **2. TRATAMENTO DE DADOS**\n"
      ]
    },
    {
      "cell_type": "markdown",
      "metadata": {
        "id": "IU4sRacpPY1T"
      },
      "source": [
        "# **2.1 VERIFICAR TIPOS DE COLUNAS**"
      ]
    },
    {
      "cell_type": "code",
      "metadata": {
        "colab": {
          "base_uri": "https://localhost:8080/"
        },
        "id": "a6zUmEFIPwTD",
        "outputId": "6804b282-a567-4c9a-b468-db410784c619"
      },
      "source": [
        "df_clientes.dtypes"
      ],
      "execution_count": null,
      "outputs": [
        {
          "output_type": "execute_result",
          "data": {
            "text/plain": [
              "CLIENTE               int64\n",
              "IDNIVEL               int64\n",
              "DESCRICAO_NIVEL      object\n",
              "SALDO_VC            float64\n",
              "DT_MUDANCA_PEDRA     object\n",
              "dtype: object"
            ]
          },
          "metadata": {
            "tags": []
          },
          "execution_count": 10
        }
      ]
    },
    {
      "cell_type": "code",
      "metadata": {
        "colab": {
          "base_uri": "https://localhost:8080/"
        },
        "id": "UrLmModrSxfi",
        "outputId": "a7be7f2a-e938-4f67-a493-d864de844db1"
      },
      "source": [
        "df_transacoes.dtypes"
      ],
      "execution_count": null,
      "outputs": [
        {
          "output_type": "execute_result",
          "data": {
            "text/plain": [
              "CLIENTE                   int64\n",
              "DEBITO_OU_CREDITO        object\n",
              "TIPO_TRANSACAO_VC        object\n",
              "ID_LISTA_PRESENTES        int64\n",
              "PEDIDO_BOL                int64\n",
              "VALOR_MOVIMENTADO       float64\n",
              "SALDO                   float64\n",
              "MOEDA                    object\n",
              "DATA_DA_MOVIMENTACAO     object\n",
              "FATURA                  float64\n",
              "DATA_CRIACAO             object\n",
              "LOJA                    float64\n",
              "dtype: object"
            ]
          },
          "metadata": {
            "tags": []
          },
          "execution_count": 11
        }
      ]
    },
    {
      "cell_type": "markdown",
      "metadata": {
        "id": "mzeBZ7w_TGpL"
      },
      "source": [
        "# **2.2 ALTERANDO TIPOS DE COLUNAS**"
      ]
    },
    {
      "cell_type": "code",
      "metadata": {
        "colab": {
          "base_uri": "https://localhost:8080/",
          "height": 439
        },
        "id": "-WVx-U9PTKcW",
        "outputId": "5e4fa5ba-c9e8-4084-e5e9-675dc828f10a"
      },
      "source": [
        "df_transacoes[['FATURA','LOJA']] = df_transacoes[['FATURA','LOJA']].fillna(0).astype(int)\n",
        "df_transacoes[['DATA_DA_MOVIMENTACAO','DATA_CRIACAO']] = df_transacoes[['DATA_DA_MOVIMENTACAO','DATA_CRIACAO']].astype('datetime64')\n",
        "df_transacoes"
      ],
      "execution_count": null,
      "outputs": [
        {
          "output_type": "execute_result",
          "data": {
            "text/html": [
              "<div>\n",
              "<style scoped>\n",
              "    .dataframe tbody tr th:only-of-type {\n",
              "        vertical-align: middle;\n",
              "    }\n",
              "\n",
              "    .dataframe tbody tr th {\n",
              "        vertical-align: top;\n",
              "    }\n",
              "\n",
              "    .dataframe thead th {\n",
              "        text-align: right;\n",
              "    }\n",
              "</style>\n",
              "<table border=\"1\" class=\"dataframe\">\n",
              "  <thead>\n",
              "    <tr style=\"text-align: right;\">\n",
              "      <th></th>\n",
              "      <th>CLIENTE</th>\n",
              "      <th>DEBITO_OU_CREDITO</th>\n",
              "      <th>TIPO_TRANSACAO_VC</th>\n",
              "      <th>ID_LISTA_PRESENTES</th>\n",
              "      <th>PEDIDO_BOL</th>\n",
              "      <th>VALOR_MOVIMENTADO</th>\n",
              "      <th>SALDO</th>\n",
              "      <th>MOEDA</th>\n",
              "      <th>DATA_DA_MOVIMENTACAO</th>\n",
              "      <th>FATURA</th>\n",
              "      <th>DATA_CRIACAO</th>\n",
              "      <th>LOJA</th>\n",
              "    </tr>\n",
              "  </thead>\n",
              "  <tbody>\n",
              "    <tr>\n",
              "      <th>0</th>\n",
              "      <td>3059785</td>\n",
              "      <td>CREDITO</td>\n",
              "      <td>CREDITO_POR_TROCO</td>\n",
              "      <td>0</td>\n",
              "      <td>0</td>\n",
              "      <td>0.37</td>\n",
              "      <td>0.37</td>\n",
              "      <td>BRL</td>\n",
              "      <td>2019-11-03</td>\n",
              "      <td>157999405</td>\n",
              "      <td>2019-11-03</td>\n",
              "      <td>118</td>\n",
              "    </tr>\n",
              "    <tr>\n",
              "      <th>1</th>\n",
              "      <td>197026</td>\n",
              "      <td>CREDITO</td>\n",
              "      <td>CREDITO_POR_TROCO</td>\n",
              "      <td>0</td>\n",
              "      <td>0</td>\n",
              "      <td>0.39</td>\n",
              "      <td>3.20</td>\n",
              "      <td>BRL</td>\n",
              "      <td>2017-11-20</td>\n",
              "      <td>144328614</td>\n",
              "      <td>2017-11-20</td>\n",
              "      <td>500</td>\n",
              "    </tr>\n",
              "    <tr>\n",
              "      <th>2</th>\n",
              "      <td>2435219</td>\n",
              "      <td>CREDITO</td>\n",
              "      <td>CREDITO_POR_TROCO</td>\n",
              "      <td>0</td>\n",
              "      <td>0</td>\n",
              "      <td>1.15</td>\n",
              "      <td>1.15</td>\n",
              "      <td>BRL</td>\n",
              "      <td>2020-08-05</td>\n",
              "      <td>163994206</td>\n",
              "      <td>2020-08-05</td>\n",
              "      <td>106</td>\n",
              "    </tr>\n",
              "    <tr>\n",
              "      <th>3</th>\n",
              "      <td>1736644</td>\n",
              "      <td>CREDITO</td>\n",
              "      <td>CREDITO_POR_TROCO</td>\n",
              "      <td>0</td>\n",
              "      <td>0</td>\n",
              "      <td>0.15</td>\n",
              "      <td>2.66</td>\n",
              "      <td>BRL</td>\n",
              "      <td>2017-08-20</td>\n",
              "      <td>142898316</td>\n",
              "      <td>2017-08-20</td>\n",
              "      <td>118</td>\n",
              "    </tr>\n",
              "    <tr>\n",
              "      <th>4</th>\n",
              "      <td>2010537</td>\n",
              "      <td>DEBITO</td>\n",
              "      <td>DEBITO_PAGAMENTO_COM_VC</td>\n",
              "      <td>0</td>\n",
              "      <td>0</td>\n",
              "      <td>-0.50</td>\n",
              "      <td>0.00</td>\n",
              "      <td>BRL</td>\n",
              "      <td>2017-08-08</td>\n",
              "      <td>0</td>\n",
              "      <td>2017-08-08</td>\n",
              "      <td>401</td>\n",
              "    </tr>\n",
              "    <tr>\n",
              "      <th>...</th>\n",
              "      <td>...</td>\n",
              "      <td>...</td>\n",
              "      <td>...</td>\n",
              "      <td>...</td>\n",
              "      <td>...</td>\n",
              "      <td>...</td>\n",
              "      <td>...</td>\n",
              "      <td>...</td>\n",
              "      <td>...</td>\n",
              "      <td>...</td>\n",
              "      <td>...</td>\n",
              "      <td>...</td>\n",
              "    </tr>\n",
              "    <tr>\n",
              "      <th>380319</th>\n",
              "      <td>1046303</td>\n",
              "      <td>CREDITO</td>\n",
              "      <td>CREDITO_POR_TROCO</td>\n",
              "      <td>0</td>\n",
              "      <td>0</td>\n",
              "      <td>0.90</td>\n",
              "      <td>0.90</td>\n",
              "      <td>BRL</td>\n",
              "      <td>2018-02-15</td>\n",
              "      <td>145954646</td>\n",
              "      <td>2018-02-15</td>\n",
              "      <td>202</td>\n",
              "    </tr>\n",
              "    <tr>\n",
              "      <th>380320</th>\n",
              "      <td>155516</td>\n",
              "      <td>DEBITO</td>\n",
              "      <td>DEBITO_PAGAMENTO_COM_VC</td>\n",
              "      <td>0</td>\n",
              "      <td>0</td>\n",
              "      <td>-0.20</td>\n",
              "      <td>0.75</td>\n",
              "      <td>BRL</td>\n",
              "      <td>2018-12-06</td>\n",
              "      <td>0</td>\n",
              "      <td>2018-12-06</td>\n",
              "      <td>101</td>\n",
              "    </tr>\n",
              "    <tr>\n",
              "      <th>380321</th>\n",
              "      <td>2087858</td>\n",
              "      <td>CREDITO</td>\n",
              "      <td>CREDITO_POR_TROCO</td>\n",
              "      <td>0</td>\n",
              "      <td>0</td>\n",
              "      <td>0.23</td>\n",
              "      <td>0.47</td>\n",
              "      <td>BRL</td>\n",
              "      <td>2018-11-27</td>\n",
              "      <td>151060807</td>\n",
              "      <td>2018-11-27</td>\n",
              "      <td>106</td>\n",
              "    </tr>\n",
              "    <tr>\n",
              "      <th>380322</th>\n",
              "      <td>2133650</td>\n",
              "      <td>CREDITO</td>\n",
              "      <td>CREDITO_GERADO_POR_COMPRA_DE_VC</td>\n",
              "      <td>0</td>\n",
              "      <td>0</td>\n",
              "      <td>85.00</td>\n",
              "      <td>88.35</td>\n",
              "      <td>BRL</td>\n",
              "      <td>2020-10-03</td>\n",
              "      <td>165519100</td>\n",
              "      <td>2020-10-03</td>\n",
              "      <td>520</td>\n",
              "    </tr>\n",
              "    <tr>\n",
              "      <th>380323</th>\n",
              "      <td>1452993</td>\n",
              "      <td>CREDITO</td>\n",
              "      <td>CREDITO_POR_TROCO</td>\n",
              "      <td>0</td>\n",
              "      <td>0</td>\n",
              "      <td>0.89</td>\n",
              "      <td>3.95</td>\n",
              "      <td>BRL</td>\n",
              "      <td>2018-10-17</td>\n",
              "      <td>150259102</td>\n",
              "      <td>2018-10-17</td>\n",
              "      <td>201</td>\n",
              "    </tr>\n",
              "  </tbody>\n",
              "</table>\n",
              "<p>380324 rows × 12 columns</p>\n",
              "</div>"
            ],
            "text/plain": [
              "        CLIENTE DEBITO_OU_CREDITO  ... DATA_CRIACAO  LOJA\n",
              "0       3059785           CREDITO  ...   2019-11-03   118\n",
              "1        197026           CREDITO  ...   2017-11-20   500\n",
              "2       2435219           CREDITO  ...   2020-08-05   106\n",
              "3       1736644           CREDITO  ...   2017-08-20   118\n",
              "4       2010537            DEBITO  ...   2017-08-08   401\n",
              "...         ...               ...  ...          ...   ...\n",
              "380319  1046303           CREDITO  ...   2018-02-15   202\n",
              "380320   155516            DEBITO  ...   2018-12-06   101\n",
              "380321  2087858           CREDITO  ...   2018-11-27   106\n",
              "380322  2133650           CREDITO  ...   2020-10-03   520\n",
              "380323  1452993           CREDITO  ...   2018-10-17   201\n",
              "\n",
              "[380324 rows x 12 columns]"
            ]
          },
          "metadata": {
            "tags": []
          },
          "execution_count": 12
        }
      ]
    },
    {
      "cell_type": "code",
      "metadata": {
        "colab": {
          "base_uri": "https://localhost:8080/",
          "height": 660
        },
        "id": "0N1IPOj8poyb",
        "outputId": "8761cc2f-cf5b-4dab-ae6c-846d23a605b5"
      },
      "source": [
        "df_transacoesL = df_transacoes.copy()\n",
        "df_transacoesL['TIPO_TRANSACAO_VC'] = df_transacoesL['TIPO_TRANSACAO_VC'].str.replace('_',' ')\n",
        "df_transacoesL"
      ],
      "execution_count": null,
      "outputs": [
        {
          "output_type": "execute_result",
          "data": {
            "text/html": [
              "<div>\n",
              "<style scoped>\n",
              "    .dataframe tbody tr th:only-of-type {\n",
              "        vertical-align: middle;\n",
              "    }\n",
              "\n",
              "    .dataframe tbody tr th {\n",
              "        vertical-align: top;\n",
              "    }\n",
              "\n",
              "    .dataframe thead th {\n",
              "        text-align: right;\n",
              "    }\n",
              "</style>\n",
              "<table border=\"1\" class=\"dataframe\">\n",
              "  <thead>\n",
              "    <tr style=\"text-align: right;\">\n",
              "      <th></th>\n",
              "      <th>CLIENTE</th>\n",
              "      <th>DEBITO_OU_CREDITO</th>\n",
              "      <th>TIPO_TRANSACAO_VC</th>\n",
              "      <th>ID_LISTA_PRESENTES</th>\n",
              "      <th>PEDIDO_BOL</th>\n",
              "      <th>VALOR_MOVIMENTADO</th>\n",
              "      <th>SALDO</th>\n",
              "      <th>MOEDA</th>\n",
              "      <th>DATA_DA_MOVIMENTACAO</th>\n",
              "      <th>FATURA</th>\n",
              "      <th>DATA_CRIACAO</th>\n",
              "      <th>LOJA</th>\n",
              "    </tr>\n",
              "  </thead>\n",
              "  <tbody>\n",
              "    <tr>\n",
              "      <th>0</th>\n",
              "      <td>3059785</td>\n",
              "      <td>CREDITO</td>\n",
              "      <td>CREDITO POR TROCO</td>\n",
              "      <td>0</td>\n",
              "      <td>0</td>\n",
              "      <td>0.37</td>\n",
              "      <td>0.37</td>\n",
              "      <td>BRL</td>\n",
              "      <td>2019-11-03</td>\n",
              "      <td>157999405</td>\n",
              "      <td>2019-11-03</td>\n",
              "      <td>118</td>\n",
              "    </tr>\n",
              "    <tr>\n",
              "      <th>1</th>\n",
              "      <td>197026</td>\n",
              "      <td>CREDITO</td>\n",
              "      <td>CREDITO POR TROCO</td>\n",
              "      <td>0</td>\n",
              "      <td>0</td>\n",
              "      <td>0.39</td>\n",
              "      <td>3.20</td>\n",
              "      <td>BRL</td>\n",
              "      <td>2017-11-20</td>\n",
              "      <td>144328614</td>\n",
              "      <td>2017-11-20</td>\n",
              "      <td>500</td>\n",
              "    </tr>\n",
              "    <tr>\n",
              "      <th>2</th>\n",
              "      <td>2435219</td>\n",
              "      <td>CREDITO</td>\n",
              "      <td>CREDITO POR TROCO</td>\n",
              "      <td>0</td>\n",
              "      <td>0</td>\n",
              "      <td>1.15</td>\n",
              "      <td>1.15</td>\n",
              "      <td>BRL</td>\n",
              "      <td>2020-08-05</td>\n",
              "      <td>163994206</td>\n",
              "      <td>2020-08-05</td>\n",
              "      <td>106</td>\n",
              "    </tr>\n",
              "    <tr>\n",
              "      <th>3</th>\n",
              "      <td>1736644</td>\n",
              "      <td>CREDITO</td>\n",
              "      <td>CREDITO POR TROCO</td>\n",
              "      <td>0</td>\n",
              "      <td>0</td>\n",
              "      <td>0.15</td>\n",
              "      <td>2.66</td>\n",
              "      <td>BRL</td>\n",
              "      <td>2017-08-20</td>\n",
              "      <td>142898316</td>\n",
              "      <td>2017-08-20</td>\n",
              "      <td>118</td>\n",
              "    </tr>\n",
              "    <tr>\n",
              "      <th>4</th>\n",
              "      <td>2010537</td>\n",
              "      <td>DEBITO</td>\n",
              "      <td>DEBITO PAGAMENTO COM VC</td>\n",
              "      <td>0</td>\n",
              "      <td>0</td>\n",
              "      <td>-0.50</td>\n",
              "      <td>0.00</td>\n",
              "      <td>BRL</td>\n",
              "      <td>2017-08-08</td>\n",
              "      <td>0</td>\n",
              "      <td>2017-08-08</td>\n",
              "      <td>401</td>\n",
              "    </tr>\n",
              "    <tr>\n",
              "      <th>...</th>\n",
              "      <td>...</td>\n",
              "      <td>...</td>\n",
              "      <td>...</td>\n",
              "      <td>...</td>\n",
              "      <td>...</td>\n",
              "      <td>...</td>\n",
              "      <td>...</td>\n",
              "      <td>...</td>\n",
              "      <td>...</td>\n",
              "      <td>...</td>\n",
              "      <td>...</td>\n",
              "      <td>...</td>\n",
              "    </tr>\n",
              "    <tr>\n",
              "      <th>380319</th>\n",
              "      <td>1046303</td>\n",
              "      <td>CREDITO</td>\n",
              "      <td>CREDITO POR TROCO</td>\n",
              "      <td>0</td>\n",
              "      <td>0</td>\n",
              "      <td>0.90</td>\n",
              "      <td>0.90</td>\n",
              "      <td>BRL</td>\n",
              "      <td>2018-02-15</td>\n",
              "      <td>145954646</td>\n",
              "      <td>2018-02-15</td>\n",
              "      <td>202</td>\n",
              "    </tr>\n",
              "    <tr>\n",
              "      <th>380320</th>\n",
              "      <td>155516</td>\n",
              "      <td>DEBITO</td>\n",
              "      <td>DEBITO PAGAMENTO COM VC</td>\n",
              "      <td>0</td>\n",
              "      <td>0</td>\n",
              "      <td>-0.20</td>\n",
              "      <td>0.75</td>\n",
              "      <td>BRL</td>\n",
              "      <td>2018-12-06</td>\n",
              "      <td>0</td>\n",
              "      <td>2018-12-06</td>\n",
              "      <td>101</td>\n",
              "    </tr>\n",
              "    <tr>\n",
              "      <th>380321</th>\n",
              "      <td>2087858</td>\n",
              "      <td>CREDITO</td>\n",
              "      <td>CREDITO POR TROCO</td>\n",
              "      <td>0</td>\n",
              "      <td>0</td>\n",
              "      <td>0.23</td>\n",
              "      <td>0.47</td>\n",
              "      <td>BRL</td>\n",
              "      <td>2018-11-27</td>\n",
              "      <td>151060807</td>\n",
              "      <td>2018-11-27</td>\n",
              "      <td>106</td>\n",
              "    </tr>\n",
              "    <tr>\n",
              "      <th>380322</th>\n",
              "      <td>2133650</td>\n",
              "      <td>CREDITO</td>\n",
              "      <td>CREDITO GERADO POR COMPRA DE VC</td>\n",
              "      <td>0</td>\n",
              "      <td>0</td>\n",
              "      <td>85.00</td>\n",
              "      <td>88.35</td>\n",
              "      <td>BRL</td>\n",
              "      <td>2020-10-03</td>\n",
              "      <td>165519100</td>\n",
              "      <td>2020-10-03</td>\n",
              "      <td>520</td>\n",
              "    </tr>\n",
              "    <tr>\n",
              "      <th>380323</th>\n",
              "      <td>1452993</td>\n",
              "      <td>CREDITO</td>\n",
              "      <td>CREDITO POR TROCO</td>\n",
              "      <td>0</td>\n",
              "      <td>0</td>\n",
              "      <td>0.89</td>\n",
              "      <td>3.95</td>\n",
              "      <td>BRL</td>\n",
              "      <td>2018-10-17</td>\n",
              "      <td>150259102</td>\n",
              "      <td>2018-10-17</td>\n",
              "      <td>201</td>\n",
              "    </tr>\n",
              "  </tbody>\n",
              "</table>\n",
              "<p>380324 rows × 12 columns</p>\n",
              "</div>"
            ],
            "text/plain": [
              "        CLIENTE DEBITO_OU_CREDITO  ... DATA_CRIACAO  LOJA\n",
              "0       3059785           CREDITO  ...   2019-11-03   118\n",
              "1        197026           CREDITO  ...   2017-11-20   500\n",
              "2       2435219           CREDITO  ...   2020-08-05   106\n",
              "3       1736644           CREDITO  ...   2017-08-20   118\n",
              "4       2010537            DEBITO  ...   2017-08-08   401\n",
              "...         ...               ...  ...          ...   ...\n",
              "380319  1046303           CREDITO  ...   2018-02-15   202\n",
              "380320   155516            DEBITO  ...   2018-12-06   101\n",
              "380321  2087858           CREDITO  ...   2018-11-27   106\n",
              "380322  2133650           CREDITO  ...   2020-10-03   520\n",
              "380323  1452993           CREDITO  ...   2018-10-17   201\n",
              "\n",
              "[380324 rows x 12 columns]"
            ]
          },
          "metadata": {
            "tags": []
          },
          "execution_count": 13
        }
      ]
    },
    {
      "cell_type": "markdown",
      "metadata": {
        "id": "fuED4S1mzYXY"
      },
      "source": [
        "# **3.0 TIPOS DE TRANSACOES MAIS RECORRENTES**\n",
        "\n",
        "\n"
      ]
    },
    {
      "cell_type": "code",
      "metadata": {
        "colab": {
          "base_uri": "https://localhost:8080/",
          "height": 700
        },
        "id": "UdtEWuO5zhlf",
        "outputId": "b311efa6-3c68-46a1-9d3b-28950a915318"
      },
      "source": [
        "df_tiposTranscoes = df_transacoes.groupby(['TIPO_TRANSACAO_VC']).agg({'VALOR_MOVIMENTADO':'sum','CLIENTE':'count'})\n",
        "df_tiposTranscoes  = df_tiposTranscoes.rename(columns={'CLIENTE':'N_OCORRENCIA'})\n",
        "df_tiposTranscoes['MEDIA_POR_TIPO_COMPRA'] = df_tiposTranscoes['VALOR_MOVIMENTADO']/df_tiposTranscoes['N_OCORRENCIA']\n",
        "df_tiposTranscoes['MEDIA_POR_TIPO_COMPRA'] =df_tiposTranscoes['MEDIA_POR_TIPO_COMPRA'].round(2)\n",
        "df_tiposTranscoes['PORCENTAGEM'] = abs(df_tiposTranscoes['N_OCORRENCIA']/df_tiposTranscoes['N_OCORRENCIA'].sum())*100\n",
        "df_tiposTranscoes['PORCENTAGEM']  = df_tiposTranscoes['PORCENTAGEM'].round(4)\n",
        "df_tiposTranscoes  = df_tiposTranscoes.sort_values(['PORCENTAGEM'] ,ascending = [False]).reset_index(drop = False)\n",
        "df_tiposTranscoes['TIPO_TRANSACAO_VC'] = df_tiposTranscoes['TIPO_TRANSACAO_VC'].str.replace('_',' ')\n",
        "df_tiposTranscoes "
      ],
      "execution_count": null,
      "outputs": [
        {
          "output_type": "execute_result",
          "data": {
            "text/html": [
              "<div>\n",
              "<style scoped>\n",
              "    .dataframe tbody tr th:only-of-type {\n",
              "        vertical-align: middle;\n",
              "    }\n",
              "\n",
              "    .dataframe tbody tr th {\n",
              "        vertical-align: top;\n",
              "    }\n",
              "\n",
              "    .dataframe thead th {\n",
              "        text-align: right;\n",
              "    }\n",
              "</style>\n",
              "<table border=\"1\" class=\"dataframe\">\n",
              "  <thead>\n",
              "    <tr style=\"text-align: right;\">\n",
              "      <th></th>\n",
              "      <th>TIPO_TRANSACAO_VC</th>\n",
              "      <th>VALOR_MOVIMENTADO</th>\n",
              "      <th>N_OCORRENCIA</th>\n",
              "      <th>MEDIA_POR_TIPO_COMPRA</th>\n",
              "      <th>PORCENTAGEM</th>\n",
              "    </tr>\n",
              "  </thead>\n",
              "  <tbody>\n",
              "    <tr>\n",
              "      <th>0</th>\n",
              "      <td>CREDITO POR TROCO</td>\n",
              "      <td>179108.95</td>\n",
              "      <td>234875</td>\n",
              "      <td>0.76</td>\n",
              "      <td>61.7566</td>\n",
              "    </tr>\n",
              "    <tr>\n",
              "      <th>1</th>\n",
              "      <td>DEBITO PAGAMENTO COM VC</td>\n",
              "      <td>-1208556.11</td>\n",
              "      <td>56800</td>\n",
              "      <td>-21.28</td>\n",
              "      <td>14.9346</td>\n",
              "    </tr>\n",
              "    <tr>\n",
              "      <th>2</th>\n",
              "      <td>DEBITO COMPRA COM VC</td>\n",
              "      <td>-1667180.72</td>\n",
              "      <td>32591</td>\n",
              "      <td>-51.15</td>\n",
              "      <td>8.5693</td>\n",
              "    </tr>\n",
              "    <tr>\n",
              "      <th>3</th>\n",
              "      <td>CREDITO GERADO POR COMPRA DE VC</td>\n",
              "      <td>4529981.02</td>\n",
              "      <td>24056</td>\n",
              "      <td>188.31</td>\n",
              "      <td>6.3251</td>\n",
              "    </tr>\n",
              "    <tr>\n",
              "      <th>4</th>\n",
              "      <td>DEBITO AUTOMATICO PAG PRESTACOES</td>\n",
              "      <td>-2887133.12</td>\n",
              "      <td>22119</td>\n",
              "      <td>-130.53</td>\n",
              "      <td>5.8158</td>\n",
              "    </tr>\n",
              "    <tr>\n",
              "      <th>5</th>\n",
              "      <td>CREDITO POR COMPRA LISTA PRESENTES</td>\n",
              "      <td>927807.93</td>\n",
              "      <td>6803</td>\n",
              "      <td>136.38</td>\n",
              "      <td>1.7887</td>\n",
              "    </tr>\n",
              "    <tr>\n",
              "      <th>6</th>\n",
              "      <td>DEBITO DEVOLUCAO COMPRA FEITA COM VC</td>\n",
              "      <td>162004.52</td>\n",
              "      <td>1004</td>\n",
              "      <td>161.36</td>\n",
              "      <td>0.2640</td>\n",
              "    </tr>\n",
              "    <tr>\n",
              "      <th>7</th>\n",
              "      <td>CREDITO PREMIACAO FUNCIONARIO</td>\n",
              "      <td>90178.10</td>\n",
              "      <td>697</td>\n",
              "      <td>129.38</td>\n",
              "      <td>0.1833</td>\n",
              "    </tr>\n",
              "    <tr>\n",
              "      <th>8</th>\n",
              "      <td>CREDITO PREMIACAO GERENCIAL CLIENTES</td>\n",
              "      <td>26619.99</td>\n",
              "      <td>615</td>\n",
              "      <td>43.28</td>\n",
              "      <td>0.1617</td>\n",
              "    </tr>\n",
              "    <tr>\n",
              "      <th>9</th>\n",
              "      <td>AJUSTE CONTABIL OU LANCAM INCORRETO</td>\n",
              "      <td>37641.98</td>\n",
              "      <td>369</td>\n",
              "      <td>102.01</td>\n",
              "      <td>0.0970</td>\n",
              "    </tr>\n",
              "    <tr>\n",
              "      <th>10</th>\n",
              "      <td>CREDITO GERADO DEVOLUCAO COMPRAS</td>\n",
              "      <td>21443.87</td>\n",
              "      <td>156</td>\n",
              "      <td>137.46</td>\n",
              "      <td>0.0410</td>\n",
              "    </tr>\n",
              "    <tr>\n",
              "      <th>11</th>\n",
              "      <td>TRANSFERENCIA ENTRE CLIENTES BEMOL</td>\n",
              "      <td>-5144.01</td>\n",
              "      <td>79</td>\n",
              "      <td>-65.11</td>\n",
              "      <td>0.0208</td>\n",
              "    </tr>\n",
              "    <tr>\n",
              "      <th>12</th>\n",
              "      <td>CREDITO CONVERSAO CRED GERADO DEVOLUCAO</td>\n",
              "      <td>12705.51</td>\n",
              "      <td>52</td>\n",
              "      <td>244.34</td>\n",
              "      <td>0.0137</td>\n",
              "    </tr>\n",
              "    <tr>\n",
              "      <th>13</th>\n",
              "      <td>TRANSFERENCIA ENTRE CLIENTES BEMOL WHATSAPP</td>\n",
              "      <td>-8092.00</td>\n",
              "      <td>33</td>\n",
              "      <td>-245.21</td>\n",
              "      <td>0.0087</td>\n",
              "    </tr>\n",
              "    <tr>\n",
              "      <th>14</th>\n",
              "      <td>DEBITO DEVOLUCAO COMPRA DE VC</td>\n",
              "      <td>-3538.92</td>\n",
              "      <td>25</td>\n",
              "      <td>-141.56</td>\n",
              "      <td>0.0066</td>\n",
              "    </tr>\n",
              "    <tr>\n",
              "      <th>15</th>\n",
              "      <td>DEBITO ESTORNO LISTA PRESENTES</td>\n",
              "      <td>-4160.00</td>\n",
              "      <td>16</td>\n",
              "      <td>-260.00</td>\n",
              "      <td>0.0042</td>\n",
              "    </tr>\n",
              "    <tr>\n",
              "      <th>16</th>\n",
              "      <td>DEBITO POR ESTORNO TROCO</td>\n",
              "      <td>-251.22</td>\n",
              "      <td>16</td>\n",
              "      <td>-15.70</td>\n",
              "      <td>0.0042</td>\n",
              "    </tr>\n",
              "    <tr>\n",
              "      <th>17</th>\n",
              "      <td>AJUSTE LANCAMENTO INCORRETO</td>\n",
              "      <td>1558.84</td>\n",
              "      <td>15</td>\n",
              "      <td>103.92</td>\n",
              "      <td>0.0039</td>\n",
              "    </tr>\n",
              "    <tr>\n",
              "      <th>18</th>\n",
              "      <td>DEBITO DUPLICIDADE LANCAMENTO</td>\n",
              "      <td>-61.22</td>\n",
              "      <td>1</td>\n",
              "      <td>-61.22</td>\n",
              "      <td>0.0003</td>\n",
              "    </tr>\n",
              "    <tr>\n",
              "      <th>19</th>\n",
              "      <td>DEBITO ESTORNO TROCO</td>\n",
              "      <td>20.24</td>\n",
              "      <td>1</td>\n",
              "      <td>20.24</td>\n",
              "      <td>0.0003</td>\n",
              "    </tr>\n",
              "    <tr>\n",
              "      <th>20</th>\n",
              "      <td>DOACAO</td>\n",
              "      <td>-10.00</td>\n",
              "      <td>1</td>\n",
              "      <td>-10.00</td>\n",
              "      <td>0.0003</td>\n",
              "    </tr>\n",
              "  </tbody>\n",
              "</table>\n",
              "</div>"
            ],
            "text/plain": [
              "                              TIPO_TRANSACAO_VC  ...  PORCENTAGEM\n",
              "0                             CREDITO POR TROCO  ...      61.7566\n",
              "1                       DEBITO PAGAMENTO COM VC  ...      14.9346\n",
              "2                          DEBITO COMPRA COM VC  ...       8.5693\n",
              "3               CREDITO GERADO POR COMPRA DE VC  ...       6.3251\n",
              "4              DEBITO AUTOMATICO PAG PRESTACOES  ...       5.8158\n",
              "5            CREDITO POR COMPRA LISTA PRESENTES  ...       1.7887\n",
              "6          DEBITO DEVOLUCAO COMPRA FEITA COM VC  ...       0.2640\n",
              "7                 CREDITO PREMIACAO FUNCIONARIO  ...       0.1833\n",
              "8          CREDITO PREMIACAO GERENCIAL CLIENTES  ...       0.1617\n",
              "9           AJUSTE CONTABIL OU LANCAM INCORRETO  ...       0.0970\n",
              "10             CREDITO GERADO DEVOLUCAO COMPRAS  ...       0.0410\n",
              "11           TRANSFERENCIA ENTRE CLIENTES BEMOL  ...       0.0208\n",
              "12      CREDITO CONVERSAO CRED GERADO DEVOLUCAO  ...       0.0137\n",
              "13  TRANSFERENCIA ENTRE CLIENTES BEMOL WHATSAPP  ...       0.0087\n",
              "14                DEBITO DEVOLUCAO COMPRA DE VC  ...       0.0066\n",
              "15               DEBITO ESTORNO LISTA PRESENTES  ...       0.0042\n",
              "16                     DEBITO POR ESTORNO TROCO  ...       0.0042\n",
              "17                  AJUSTE LANCAMENTO INCORRETO  ...       0.0039\n",
              "18                DEBITO DUPLICIDADE LANCAMENTO  ...       0.0003\n",
              "19                         DEBITO ESTORNO TROCO  ...       0.0003\n",
              "20                                       DOACAO  ...       0.0003\n",
              "\n",
              "[21 rows x 5 columns]"
            ]
          },
          "metadata": {
            "tags": []
          },
          "execution_count": 14
        }
      ]
    },
    {
      "cell_type": "markdown",
      "metadata": {
        "id": "wNtOmbH0CN1f"
      },
      "source": [
        "# **4.1 DEBITOS MAIS FREQUENTES**\n"
      ]
    },
    {
      "cell_type": "code",
      "metadata": {
        "colab": {
          "base_uri": "https://localhost:8080/",
          "height": 359
        },
        "id": "4vGbIzYHCj07",
        "outputId": "5886a8a5-3a22-48ca-dbcc-c2029ad05437"
      },
      "source": [
        "df_saidasFrequentes = df_tiposTranscoes[(df_tiposTranscoes['VALOR_MOVIMENTADO']<0)].copy()\n",
        "df_saidasFrequentes = df_saidasFrequentes.drop(['PORCENTAGEM'], axis = 'columns')\n",
        "df_saidasFrequentes['PORCENTAGEM'] = (df_saidasFrequentes['N_OCORRENCIA']/df_saidasFrequentes['N_OCORRENCIA'].sum())*100\n",
        "df_saidasFrequentes = df_saidasFrequentes.sort_values(['PORCENTAGEM'] ,ascending = [False]).reset_index(drop = False)\n",
        "df_saidasFrequentes['PORCENTAGEM']  = df_saidasFrequentes['PORCENTAGEM'].round(4)\n",
        "df_saidasFrequentes=df_saidasFrequentes.drop(['index'], axis = 'columns')\n",
        "df_saidasFrequentes['TIPO_TRANSACAO_VC'] = df_saidasFrequentes['TIPO_TRANSACAO_VC'].str.replace('_',' ')\n",
        "df_saidasFrequentes\n",
        "\n"
      ],
      "execution_count": null,
      "outputs": [
        {
          "output_type": "execute_result",
          "data": {
            "text/html": [
              "<div>\n",
              "<style scoped>\n",
              "    .dataframe tbody tr th:only-of-type {\n",
              "        vertical-align: middle;\n",
              "    }\n",
              "\n",
              "    .dataframe tbody tr th {\n",
              "        vertical-align: top;\n",
              "    }\n",
              "\n",
              "    .dataframe thead th {\n",
              "        text-align: right;\n",
              "    }\n",
              "</style>\n",
              "<table border=\"1\" class=\"dataframe\">\n",
              "  <thead>\n",
              "    <tr style=\"text-align: right;\">\n",
              "      <th></th>\n",
              "      <th>TIPO_TRANSACAO_VC</th>\n",
              "      <th>VALOR_MOVIMENTADO</th>\n",
              "      <th>N_OCORRENCIA</th>\n",
              "      <th>MEDIA_POR_TIPO_COMPRA</th>\n",
              "      <th>PORCENTAGEM</th>\n",
              "    </tr>\n",
              "  </thead>\n",
              "  <tbody>\n",
              "    <tr>\n",
              "      <th>0</th>\n",
              "      <td>DEBITO PAGAMENTO COM VC</td>\n",
              "      <td>-1208556.11</td>\n",
              "      <td>56800</td>\n",
              "      <td>-21.28</td>\n",
              "      <td>50.8591</td>\n",
              "    </tr>\n",
              "    <tr>\n",
              "      <th>1</th>\n",
              "      <td>DEBITO COMPRA COM VC</td>\n",
              "      <td>-1667180.72</td>\n",
              "      <td>32591</td>\n",
              "      <td>-51.15</td>\n",
              "      <td>29.1822</td>\n",
              "    </tr>\n",
              "    <tr>\n",
              "      <th>2</th>\n",
              "      <td>DEBITO AUTOMATICO PAG PRESTACOES</td>\n",
              "      <td>-2887133.12</td>\n",
              "      <td>22119</td>\n",
              "      <td>-130.53</td>\n",
              "      <td>19.8055</td>\n",
              "    </tr>\n",
              "    <tr>\n",
              "      <th>3</th>\n",
              "      <td>TRANSFERENCIA ENTRE CLIENTES BEMOL</td>\n",
              "      <td>-5144.01</td>\n",
              "      <td>79</td>\n",
              "      <td>-65.11</td>\n",
              "      <td>0.0707</td>\n",
              "    </tr>\n",
              "    <tr>\n",
              "      <th>4</th>\n",
              "      <td>TRANSFERENCIA ENTRE CLIENTES BEMOL WHATSAPP</td>\n",
              "      <td>-8092.00</td>\n",
              "      <td>33</td>\n",
              "      <td>-245.21</td>\n",
              "      <td>0.0295</td>\n",
              "    </tr>\n",
              "    <tr>\n",
              "      <th>5</th>\n",
              "      <td>DEBITO DEVOLUCAO COMPRA DE VC</td>\n",
              "      <td>-3538.92</td>\n",
              "      <td>25</td>\n",
              "      <td>-141.56</td>\n",
              "      <td>0.0224</td>\n",
              "    </tr>\n",
              "    <tr>\n",
              "      <th>6</th>\n",
              "      <td>DEBITO ESTORNO LISTA PRESENTES</td>\n",
              "      <td>-4160.00</td>\n",
              "      <td>16</td>\n",
              "      <td>-260.00</td>\n",
              "      <td>0.0143</td>\n",
              "    </tr>\n",
              "    <tr>\n",
              "      <th>7</th>\n",
              "      <td>DEBITO POR ESTORNO TROCO</td>\n",
              "      <td>-251.22</td>\n",
              "      <td>16</td>\n",
              "      <td>-15.70</td>\n",
              "      <td>0.0143</td>\n",
              "    </tr>\n",
              "    <tr>\n",
              "      <th>8</th>\n",
              "      <td>DEBITO DUPLICIDADE LANCAMENTO</td>\n",
              "      <td>-61.22</td>\n",
              "      <td>1</td>\n",
              "      <td>-61.22</td>\n",
              "      <td>0.0009</td>\n",
              "    </tr>\n",
              "    <tr>\n",
              "      <th>9</th>\n",
              "      <td>DOACAO</td>\n",
              "      <td>-10.00</td>\n",
              "      <td>1</td>\n",
              "      <td>-10.00</td>\n",
              "      <td>0.0009</td>\n",
              "    </tr>\n",
              "  </tbody>\n",
              "</table>\n",
              "</div>"
            ],
            "text/plain": [
              "                             TIPO_TRANSACAO_VC  ...  PORCENTAGEM\n",
              "0                      DEBITO PAGAMENTO COM VC  ...      50.8591\n",
              "1                         DEBITO COMPRA COM VC  ...      29.1822\n",
              "2             DEBITO AUTOMATICO PAG PRESTACOES  ...      19.8055\n",
              "3           TRANSFERENCIA ENTRE CLIENTES BEMOL  ...       0.0707\n",
              "4  TRANSFERENCIA ENTRE CLIENTES BEMOL WHATSAPP  ...       0.0295\n",
              "5                DEBITO DEVOLUCAO COMPRA DE VC  ...       0.0224\n",
              "6               DEBITO ESTORNO LISTA PRESENTES  ...       0.0143\n",
              "7                     DEBITO POR ESTORNO TROCO  ...       0.0143\n",
              "8                DEBITO DUPLICIDADE LANCAMENTO  ...       0.0009\n",
              "9                                       DOACAO  ...       0.0009\n",
              "\n",
              "[10 rows x 5 columns]"
            ]
          },
          "metadata": {
            "tags": []
          },
          "execution_count": 15
        }
      ]
    },
    {
      "cell_type": "code",
      "metadata": {
        "colab": {
          "base_uri": "https://localhost:8080/"
        },
        "id": "JVx9SKKLR0Ab",
        "outputId": "b726526a-4d07-4fc8-d037-089ed7f2e14c"
      },
      "source": [
        "print(f\"Débito Mais Frequente: {df_saidasFrequentes.iloc[0]['TIPO_TRANSACAO_VC']}  Frequencia: {df_saidasFrequentes.iloc[0]['PORCENTAGEM']:.2f}%\")\n"
      ],
      "execution_count": null,
      "outputs": [
        {
          "output_type": "stream",
          "text": [
            "Débito Mais Frequente: DEBITO PAGAMENTO COM VC  Frequencia: 50.86%\n"
          ],
          "name": "stdout"
        }
      ]
    },
    {
      "cell_type": "code",
      "metadata": {
        "colab": {
          "base_uri": "https://localhost:8080/",
          "height": 487
        },
        "id": "-Tu1ZVN8HGPg",
        "outputId": "a1be6208-bbe4-4cc2-a6fe-efa8942afd33"
      },
      "source": [
        "df_saidasFrequentes['TIPO_TRANSACAO_VC'] = df_saidasFrequentes['TIPO_TRANSACAO_VC'].str.replace('_',' ')\n",
        "plotar_grafico_pizza(df_saidasFrequentes,\"PORCENTAGEM\",\"TIPO_TRANSACAO_VC\",explode=[0.07,0.07,0.07],title=\"DEBITOS MAIS FREQUENTES\")"
      ],
      "execution_count": null,
      "outputs": [
        {
          "output_type": "display_data",
          "data": {
            "image/png": "[encoded data removed]",
            "text/plain": [
              "<Figure size 720x504 with 1 Axes>"
            ]
          },
          "metadata": {
            "tags": []
          }
        }
      ]
    },
    {
      "cell_type": "markdown",
      "metadata": {
        "id": "5kazwPfFGw4T"
      },
      "source": [
        "# **4.2 CRÉDITOS MAIS FREQUENTES**"
      ]
    },
    {
      "cell_type": "code",
      "metadata": {
        "colab": {
          "base_uri": "https://localhost:8080/",
          "height": 390
        },
        "id": "aAKML_W0G9jR",
        "outputId": "8223b515-cc7d-4c8a-c857-0c173f12417a"
      },
      "source": [
        "df_entradasFrequentes = df_tiposTranscoes[(df_tiposTranscoes['VALOR_MOVIMENTADO']>0)].copy()\n",
        "df_entradasFrequentes = df_entradasFrequentes.drop(['PORCENTAGEM'], axis = 'columns')\n",
        "df_entradasFrequentes['PORCENTAGEM'] = (df_entradasFrequentes['N_OCORRENCIA']/df_entradasFrequentes['N_OCORRENCIA'].sum())*100\n",
        "df_entradasFrequentes = df_entradasFrequentes.sort_values(['PORCENTAGEM'] ,ascending = [False]).reset_index(drop = False)\n",
        "df_entradasFrequentes['PORCENTAGEM']  = df_entradasFrequentes['PORCENTAGEM'].round(4)\n",
        "df_entradasFrequentes=df_entradasFrequentes.drop(['index'], axis = 'columns')\n",
        "df_entradasFrequentes['TIPO_TRANSACAO_VC'] = df_entradasFrequentes['TIPO_TRANSACAO_VC'].str.replace('_',' ')\n",
        "\n",
        "df_entradasFrequentes"
      ],
      "execution_count": null,
      "outputs": [
        {
          "output_type": "execute_result",
          "data": {
            "text/html": [
              "<div>\n",
              "<style scoped>\n",
              "    .dataframe tbody tr th:only-of-type {\n",
              "        vertical-align: middle;\n",
              "    }\n",
              "\n",
              "    .dataframe tbody tr th {\n",
              "        vertical-align: top;\n",
              "    }\n",
              "\n",
              "    .dataframe thead th {\n",
              "        text-align: right;\n",
              "    }\n",
              "</style>\n",
              "<table border=\"1\" class=\"dataframe\">\n",
              "  <thead>\n",
              "    <tr style=\"text-align: right;\">\n",
              "      <th></th>\n",
              "      <th>TIPO_TRANSACAO_VC</th>\n",
              "      <th>VALOR_MOVIMENTADO</th>\n",
              "      <th>N_OCORRENCIA</th>\n",
              "      <th>MEDIA_POR_TIPO_COMPRA</th>\n",
              "      <th>PORCENTAGEM</th>\n",
              "    </tr>\n",
              "  </thead>\n",
              "  <tbody>\n",
              "    <tr>\n",
              "      <th>0</th>\n",
              "      <td>CREDITO POR TROCO</td>\n",
              "      <td>179108.95</td>\n",
              "      <td>234875</td>\n",
              "      <td>0.76</td>\n",
              "      <td>87.4302</td>\n",
              "    </tr>\n",
              "    <tr>\n",
              "      <th>1</th>\n",
              "      <td>CREDITO GERADO POR COMPRA DE VC</td>\n",
              "      <td>4529981.02</td>\n",
              "      <td>24056</td>\n",
              "      <td>188.31</td>\n",
              "      <td>8.9546</td>\n",
              "    </tr>\n",
              "    <tr>\n",
              "      <th>2</th>\n",
              "      <td>CREDITO POR COMPRA LISTA PRESENTES</td>\n",
              "      <td>927807.93</td>\n",
              "      <td>6803</td>\n",
              "      <td>136.38</td>\n",
              "      <td>2.5324</td>\n",
              "    </tr>\n",
              "    <tr>\n",
              "      <th>3</th>\n",
              "      <td>DEBITO DEVOLUCAO COMPRA FEITA COM VC</td>\n",
              "      <td>162004.52</td>\n",
              "      <td>1004</td>\n",
              "      <td>161.36</td>\n",
              "      <td>0.3737</td>\n",
              "    </tr>\n",
              "    <tr>\n",
              "      <th>4</th>\n",
              "      <td>CREDITO PREMIACAO FUNCIONARIO</td>\n",
              "      <td>90178.10</td>\n",
              "      <td>697</td>\n",
              "      <td>129.38</td>\n",
              "      <td>0.2595</td>\n",
              "    </tr>\n",
              "    <tr>\n",
              "      <th>5</th>\n",
              "      <td>CREDITO PREMIACAO GERENCIAL CLIENTES</td>\n",
              "      <td>26619.99</td>\n",
              "      <td>615</td>\n",
              "      <td>43.28</td>\n",
              "      <td>0.2289</td>\n",
              "    </tr>\n",
              "    <tr>\n",
              "      <th>6</th>\n",
              "      <td>AJUSTE CONTABIL OU LANCAM INCORRETO</td>\n",
              "      <td>37641.98</td>\n",
              "      <td>369</td>\n",
              "      <td>102.01</td>\n",
              "      <td>0.1374</td>\n",
              "    </tr>\n",
              "    <tr>\n",
              "      <th>7</th>\n",
              "      <td>CREDITO GERADO DEVOLUCAO COMPRAS</td>\n",
              "      <td>21443.87</td>\n",
              "      <td>156</td>\n",
              "      <td>137.46</td>\n",
              "      <td>0.0581</td>\n",
              "    </tr>\n",
              "    <tr>\n",
              "      <th>8</th>\n",
              "      <td>CREDITO CONVERSAO CRED GERADO DEVOLUCAO</td>\n",
              "      <td>12705.51</td>\n",
              "      <td>52</td>\n",
              "      <td>244.34</td>\n",
              "      <td>0.0194</td>\n",
              "    </tr>\n",
              "    <tr>\n",
              "      <th>9</th>\n",
              "      <td>AJUSTE LANCAMENTO INCORRETO</td>\n",
              "      <td>1558.84</td>\n",
              "      <td>15</td>\n",
              "      <td>103.92</td>\n",
              "      <td>0.0056</td>\n",
              "    </tr>\n",
              "    <tr>\n",
              "      <th>10</th>\n",
              "      <td>DEBITO ESTORNO TROCO</td>\n",
              "      <td>20.24</td>\n",
              "      <td>1</td>\n",
              "      <td>20.24</td>\n",
              "      <td>0.0004</td>\n",
              "    </tr>\n",
              "  </tbody>\n",
              "</table>\n",
              "</div>"
            ],
            "text/plain": [
              "                          TIPO_TRANSACAO_VC  ...  PORCENTAGEM\n",
              "0                         CREDITO POR TROCO  ...      87.4302\n",
              "1           CREDITO GERADO POR COMPRA DE VC  ...       8.9546\n",
              "2        CREDITO POR COMPRA LISTA PRESENTES  ...       2.5324\n",
              "3      DEBITO DEVOLUCAO COMPRA FEITA COM VC  ...       0.3737\n",
              "4             CREDITO PREMIACAO FUNCIONARIO  ...       0.2595\n",
              "5      CREDITO PREMIACAO GERENCIAL CLIENTES  ...       0.2289\n",
              "6       AJUSTE CONTABIL OU LANCAM INCORRETO  ...       0.1374\n",
              "7          CREDITO GERADO DEVOLUCAO COMPRAS  ...       0.0581\n",
              "8   CREDITO CONVERSAO CRED GERADO DEVOLUCAO  ...       0.0194\n",
              "9               AJUSTE LANCAMENTO INCORRETO  ...       0.0056\n",
              "10                     DEBITO ESTORNO TROCO  ...       0.0004\n",
              "\n",
              "[11 rows x 5 columns]"
            ]
          },
          "metadata": {
            "tags": []
          },
          "execution_count": 18
        }
      ]
    },
    {
      "cell_type": "code",
      "metadata": {
        "colab": {
          "base_uri": "https://localhost:8080/"
        },
        "id": "6GMfUswdVC5s",
        "outputId": "0f2bb7df-891b-4ebe-e638-75b677e83dbd"
      },
      "source": [
        "print(f\"Crédito Mais Frequente: {df_entradasFrequentes.iloc[0]['TIPO_TRANSACAO_VC']}  Frequencia: {df_entradasFrequentes.iloc[0]['PORCENTAGEM']:.2f}%\")\n"
      ],
      "execution_count": null,
      "outputs": [
        {
          "output_type": "stream",
          "text": [
            "Crédito Mais Frequente: CREDITO POR TROCO  Frequencia: 87.43%\n"
          ],
          "name": "stdout"
        }
      ]
    },
    {
      "cell_type": "code",
      "metadata": {
        "colab": {
          "base_uri": "https://localhost:8080/",
          "height": 489
        },
        "id": "F5bx2VBRLMII",
        "outputId": "a21cada4-d800-4b7d-abfe-0924b6f6747d"
      },
      "source": [
        "df_entradasFrequentes['TIPO_TRANSACAO_VC'] = df_entradasFrequentes['TIPO_TRANSACAO_VC'].str.replace('_',' ')\n",
        "plotar_grafico_pizza(df_entradasFrequentes,\"PORCENTAGEM\",\"TIPO_TRANSACAO_VC\",2,explode=[0.1,0.2,0.3], title = \"CRÉDITOS MAIS FREQUENTES\")"
      ],
      "execution_count": null,
      "outputs": [
        {
          "output_type": "display_data",
          "data": {
            "image/png": "[encoded data removed]",
            "text/plain": [
              "<Figure size 720x504 with 1 Axes>"
            ]
          },
          "metadata": {
            "tags": []
          }
        }
      ]
    },
    {
      "cell_type": "markdown",
      "metadata": {
        "id": "EO5wjwi6Hpxc"
      },
      "source": [
        "# **4.2 MAIORES VOLUMES DE DEBITOS**"
      ]
    },
    {
      "cell_type": "code",
      "metadata": {
        "colab": {
          "base_uri": "https://localhost:8080/",
          "height": 359
        },
        "id": "Po2mvWPhHrbi",
        "outputId": "90897ffe-9abe-42d5-b9d8-c70a4e5ac5ab"
      },
      "source": [
        "df_saidasVolume = df_saidasFrequentes.drop(['PORCENTAGEM'], axis = 'columns').copy()\n",
        "df_saidasVolume['PORCENTAGEM'] = (df_saidasVolume['VALOR_MOVIMENTADO']/df_saidasVolume['VALOR_MOVIMENTADO'].sum())*100\n",
        "df_saidasVolume = df_saidasVolume.sort_values(['PORCENTAGEM'] ,ascending = [False]).reset_index(drop = False)\n",
        "df_saidasVolume=df_saidasVolume.drop(['index'], axis = 'columns')\n",
        "df_saidasVolume"
      ],
      "execution_count": null,
      "outputs": [
        {
          "output_type": "execute_result",
          "data": {
            "text/html": [
              "<div>\n",
              "<style scoped>\n",
              "    .dataframe tbody tr th:only-of-type {\n",
              "        vertical-align: middle;\n",
              "    }\n",
              "\n",
              "    .dataframe tbody tr th {\n",
              "        vertical-align: top;\n",
              "    }\n",
              "\n",
              "    .dataframe thead th {\n",
              "        text-align: right;\n",
              "    }\n",
              "</style>\n",
              "<table border=\"1\" class=\"dataframe\">\n",
              "  <thead>\n",
              "    <tr style=\"text-align: right;\">\n",
              "      <th></th>\n",
              "      <th>TIPO_TRANSACAO_VC</th>\n",
              "      <th>VALOR_MOVIMENTADO</th>\n",
              "      <th>N_OCORRENCIA</th>\n",
              "      <th>MEDIA_POR_TIPO_COMPRA</th>\n",
              "      <th>PORCENTAGEM</th>\n",
              "    </tr>\n",
              "  </thead>\n",
              "  <tbody>\n",
              "    <tr>\n",
              "      <th>0</th>\n",
              "      <td>DEBITO AUTOMATICO PAG PRESTACOES</td>\n",
              "      <td>-2887133.12</td>\n",
              "      <td>22119</td>\n",
              "      <td>-130.53</td>\n",
              "      <td>49.914757</td>\n",
              "    </tr>\n",
              "    <tr>\n",
              "      <th>1</th>\n",
              "      <td>DEBITO COMPRA COM VC</td>\n",
              "      <td>-1667180.72</td>\n",
              "      <td>32591</td>\n",
              "      <td>-51.15</td>\n",
              "      <td>28.823375</td>\n",
              "    </tr>\n",
              "    <tr>\n",
              "      <th>2</th>\n",
              "      <td>DEBITO PAGAMENTO COM VC</td>\n",
              "      <td>-1208556.11</td>\n",
              "      <td>56800</td>\n",
              "      <td>-21.28</td>\n",
              "      <td>20.894355</td>\n",
              "    </tr>\n",
              "    <tr>\n",
              "      <th>3</th>\n",
              "      <td>TRANSFERENCIA ENTRE CLIENTES BEMOL WHATSAPP</td>\n",
              "      <td>-8092.00</td>\n",
              "      <td>33</td>\n",
              "      <td>-245.21</td>\n",
              "      <td>0.139900</td>\n",
              "    </tr>\n",
              "    <tr>\n",
              "      <th>4</th>\n",
              "      <td>TRANSFERENCIA ENTRE CLIENTES BEMOL</td>\n",
              "      <td>-5144.01</td>\n",
              "      <td>79</td>\n",
              "      <td>-65.11</td>\n",
              "      <td>0.088933</td>\n",
              "    </tr>\n",
              "    <tr>\n",
              "      <th>5</th>\n",
              "      <td>DEBITO ESTORNO LISTA PRESENTES</td>\n",
              "      <td>-4160.00</td>\n",
              "      <td>16</td>\n",
              "      <td>-260.00</td>\n",
              "      <td>0.071921</td>\n",
              "    </tr>\n",
              "    <tr>\n",
              "      <th>6</th>\n",
              "      <td>DEBITO DEVOLUCAO COMPRA DE VC</td>\n",
              "      <td>-3538.92</td>\n",
              "      <td>25</td>\n",
              "      <td>-141.56</td>\n",
              "      <td>0.061183</td>\n",
              "    </tr>\n",
              "    <tr>\n",
              "      <th>7</th>\n",
              "      <td>DEBITO POR ESTORNO TROCO</td>\n",
              "      <td>-251.22</td>\n",
              "      <td>16</td>\n",
              "      <td>-15.70</td>\n",
              "      <td>0.004343</td>\n",
              "    </tr>\n",
              "    <tr>\n",
              "      <th>8</th>\n",
              "      <td>DEBITO DUPLICIDADE LANCAMENTO</td>\n",
              "      <td>-61.22</td>\n",
              "      <td>1</td>\n",
              "      <td>-61.22</td>\n",
              "      <td>0.001058</td>\n",
              "    </tr>\n",
              "    <tr>\n",
              "      <th>9</th>\n",
              "      <td>DOACAO</td>\n",
              "      <td>-10.00</td>\n",
              "      <td>1</td>\n",
              "      <td>-10.00</td>\n",
              "      <td>0.000173</td>\n",
              "    </tr>\n",
              "  </tbody>\n",
              "</table>\n",
              "</div>"
            ],
            "text/plain": [
              "                             TIPO_TRANSACAO_VC  ...  PORCENTAGEM\n",
              "0             DEBITO AUTOMATICO PAG PRESTACOES  ...    49.914757\n",
              "1                         DEBITO COMPRA COM VC  ...    28.823375\n",
              "2                      DEBITO PAGAMENTO COM VC  ...    20.894355\n",
              "3  TRANSFERENCIA ENTRE CLIENTES BEMOL WHATSAPP  ...     0.139900\n",
              "4           TRANSFERENCIA ENTRE CLIENTES BEMOL  ...     0.088933\n",
              "5               DEBITO ESTORNO LISTA PRESENTES  ...     0.071921\n",
              "6                DEBITO DEVOLUCAO COMPRA DE VC  ...     0.061183\n",
              "7                     DEBITO POR ESTORNO TROCO  ...     0.004343\n",
              "8                DEBITO DUPLICIDADE LANCAMENTO  ...     0.001058\n",
              "9                                       DOACAO  ...     0.000173\n",
              "\n",
              "[10 rows x 5 columns]"
            ]
          },
          "metadata": {
            "tags": []
          },
          "execution_count": 21
        }
      ]
    },
    {
      "cell_type": "code",
      "metadata": {
        "colab": {
          "base_uri": "https://localhost:8080/"
        },
        "id": "EtVBAZeVVKq6",
        "outputId": "3d179307-8944-4270-ef20-dd2e5650a2d4"
      },
      "source": [
        "print(f\"Debito mais Volumoso: {df_saidasVolume.iloc[0]['TIPO_TRANSACAO_VC']}  Porcentagem do Volume Total: {df_saidasVolume.iloc[0]['PORCENTAGEM']:.2f}%\")\n"
      ],
      "execution_count": null,
      "outputs": [
        {
          "output_type": "stream",
          "text": [
            "Debito mais Volumoso: DEBITO AUTOMATICO PAG PRESTACOES  Porcentagem do Volume Total: 49.91%\n"
          ],
          "name": "stdout"
        }
      ]
    },
    {
      "cell_type": "code",
      "metadata": {
        "colab": {
          "base_uri": "https://localhost:8080/",
          "height": 487
        },
        "id": "uAn3M08dMFUU",
        "outputId": "957fc6b9-e650-4f37-d35a-deaee0f76755"
      },
      "source": [
        "df_saidasVolume['TIPO_TRANSACAO_VC'] = df_saidasVolume['TIPO_TRANSACAO_VC'].str.replace('_',' ')\n",
        "plotar_grafico_pizza(df_saidasVolume,\"PORCENTAGEM\",\"TIPO_TRANSACAO_VC\", title=\"MAIORES VOLUMES DE DEBITOS\")"
      ],
      "execution_count": null,
      "outputs": [
        {
          "output_type": "display_data",
          "data": {
            "image/png": "[encoded data removed]",
            "text/plain": [
              "<Figure size 720x504 with 1 Axes>"
            ]
          },
          "metadata": {
            "tags": []
          }
        }
      ]
    },
    {
      "cell_type": "markdown",
      "metadata": {
        "id": "gTqhfqKgNDtn"
      },
      "source": [
        "# **4.3 MAIORES VOLUMES DE CREDITOS**"
      ]
    },
    {
      "cell_type": "code",
      "metadata": {
        "colab": {
          "base_uri": "https://localhost:8080/",
          "height": 390
        },
        "id": "HKZaR5nXNMLY",
        "outputId": "1b04755b-7ec0-44b8-fc15-31365c38183e"
      },
      "source": [
        "df_entradaVolume = df_entradasFrequentes.drop(['PORCENTAGEM'], axis = 'columns').copy()\n",
        "df_entradaVolume['PORCENTAGEM'] = (df_entradaVolume['VALOR_MOVIMENTADO']/df_entradaVolume['VALOR_MOVIMENTADO'].sum())*100\n",
        "df_entradaVolume = df_entradaVolume.sort_values(['PORCENTAGEM'] ,ascending = [False]).reset_index(drop = False)\n",
        "df_entradaVolume=df_entradaVolume.drop(['index'], axis = 'columns')\n",
        "df_entradaVolume['TIPO_TRANSACAO_VC'] = df_entradaVolume['TIPO_TRANSACAO_VC'].str.replace('_',' ')\n",
        "\n",
        "df_entradaVolume"
      ],
      "execution_count": null,
      "outputs": [
        {
          "output_type": "execute_result",
          "data": {
            "text/html": [
              "<div>\n",
              "<style scoped>\n",
              "    .dataframe tbody tr th:only-of-type {\n",
              "        vertical-align: middle;\n",
              "    }\n",
              "\n",
              "    .dataframe tbody tr th {\n",
              "        vertical-align: top;\n",
              "    }\n",
              "\n",
              "    .dataframe thead th {\n",
              "        text-align: right;\n",
              "    }\n",
              "</style>\n",
              "<table border=\"1\" class=\"dataframe\">\n",
              "  <thead>\n",
              "    <tr style=\"text-align: right;\">\n",
              "      <th></th>\n",
              "      <th>TIPO_TRANSACAO_VC</th>\n",
              "      <th>VALOR_MOVIMENTADO</th>\n",
              "      <th>N_OCORRENCIA</th>\n",
              "      <th>MEDIA_POR_TIPO_COMPRA</th>\n",
              "      <th>PORCENTAGEM</th>\n",
              "    </tr>\n",
              "  </thead>\n",
              "  <tbody>\n",
              "    <tr>\n",
              "      <th>0</th>\n",
              "      <td>CREDITO GERADO POR COMPRA DE VC</td>\n",
              "      <td>4529981.02</td>\n",
              "      <td>24056</td>\n",
              "      <td>188.31</td>\n",
              "      <td>75.637458</td>\n",
              "    </tr>\n",
              "    <tr>\n",
              "      <th>1</th>\n",
              "      <td>CREDITO POR COMPRA LISTA PRESENTES</td>\n",
              "      <td>927807.93</td>\n",
              "      <td>6803</td>\n",
              "      <td>136.38</td>\n",
              "      <td>15.491684</td>\n",
              "    </tr>\n",
              "    <tr>\n",
              "      <th>2</th>\n",
              "      <td>CREDITO POR TROCO</td>\n",
              "      <td>179108.95</td>\n",
              "      <td>234875</td>\n",
              "      <td>0.76</td>\n",
              "      <td>2.990597</td>\n",
              "    </tr>\n",
              "    <tr>\n",
              "      <th>3</th>\n",
              "      <td>DEBITO DEVOLUCAO COMPRA FEITA COM VC</td>\n",
              "      <td>162004.52</td>\n",
              "      <td>1004</td>\n",
              "      <td>161.36</td>\n",
              "      <td>2.705003</td>\n",
              "    </tr>\n",
              "    <tr>\n",
              "      <th>4</th>\n",
              "      <td>CREDITO PREMIACAO FUNCIONARIO</td>\n",
              "      <td>90178.10</td>\n",
              "      <td>697</td>\n",
              "      <td>129.38</td>\n",
              "      <td>1.505711</td>\n",
              "    </tr>\n",
              "    <tr>\n",
              "      <th>5</th>\n",
              "      <td>AJUSTE CONTABIL OU LANCAM INCORRETO</td>\n",
              "      <td>37641.98</td>\n",
              "      <td>369</td>\n",
              "      <td>102.01</td>\n",
              "      <td>0.628511</td>\n",
              "    </tr>\n",
              "    <tr>\n",
              "      <th>6</th>\n",
              "      <td>CREDITO PREMIACAO GERENCIAL CLIENTES</td>\n",
              "      <td>26619.99</td>\n",
              "      <td>615</td>\n",
              "      <td>43.28</td>\n",
              "      <td>0.444476</td>\n",
              "    </tr>\n",
              "    <tr>\n",
              "      <th>7</th>\n",
              "      <td>CREDITO GERADO DEVOLUCAO COMPRAS</td>\n",
              "      <td>21443.87</td>\n",
              "      <td>156</td>\n",
              "      <td>137.46</td>\n",
              "      <td>0.358050</td>\n",
              "    </tr>\n",
              "    <tr>\n",
              "      <th>8</th>\n",
              "      <td>CREDITO CONVERSAO CRED GERADO DEVOLUCAO</td>\n",
              "      <td>12705.51</td>\n",
              "      <td>52</td>\n",
              "      <td>244.34</td>\n",
              "      <td>0.212145</td>\n",
              "    </tr>\n",
              "    <tr>\n",
              "      <th>9</th>\n",
              "      <td>AJUSTE LANCAMENTO INCORRETO</td>\n",
              "      <td>1558.84</td>\n",
              "      <td>15</td>\n",
              "      <td>103.92</td>\n",
              "      <td>0.026028</td>\n",
              "    </tr>\n",
              "    <tr>\n",
              "      <th>10</th>\n",
              "      <td>DEBITO ESTORNO TROCO</td>\n",
              "      <td>20.24</td>\n",
              "      <td>1</td>\n",
              "      <td>20.24</td>\n",
              "      <td>0.000338</td>\n",
              "    </tr>\n",
              "  </tbody>\n",
              "</table>\n",
              "</div>"
            ],
            "text/plain": [
              "                          TIPO_TRANSACAO_VC  ...  PORCENTAGEM\n",
              "0           CREDITO GERADO POR COMPRA DE VC  ...    75.637458\n",
              "1        CREDITO POR COMPRA LISTA PRESENTES  ...    15.491684\n",
              "2                         CREDITO POR TROCO  ...     2.990597\n",
              "3      DEBITO DEVOLUCAO COMPRA FEITA COM VC  ...     2.705003\n",
              "4             CREDITO PREMIACAO FUNCIONARIO  ...     1.505711\n",
              "5       AJUSTE CONTABIL OU LANCAM INCORRETO  ...     0.628511\n",
              "6      CREDITO PREMIACAO GERENCIAL CLIENTES  ...     0.444476\n",
              "7          CREDITO GERADO DEVOLUCAO COMPRAS  ...     0.358050\n",
              "8   CREDITO CONVERSAO CRED GERADO DEVOLUCAO  ...     0.212145\n",
              "9               AJUSTE LANCAMENTO INCORRETO  ...     0.026028\n",
              "10                     DEBITO ESTORNO TROCO  ...     0.000338\n",
              "\n",
              "[11 rows x 5 columns]"
            ]
          },
          "metadata": {
            "tags": []
          },
          "execution_count": 24
        }
      ]
    },
    {
      "cell_type": "code",
      "metadata": {
        "colab": {
          "base_uri": "https://localhost:8080/"
        },
        "id": "AVZfhCU1VbFa",
        "outputId": "32df5a65-14f5-4867-c1a0-94ccc768d56c"
      },
      "source": [
        "print(f\"Crédito mais Volumoso: {df_entradaVolume.iloc[0]['TIPO_TRANSACAO_VC']}  Porcentagem do Volume Total: {df_entradaVolume.iloc[0]['PORCENTAGEM']:.2f}%\")\n"
      ],
      "execution_count": null,
      "outputs": [
        {
          "output_type": "stream",
          "text": [
            "Crédito mais Volumoso: CREDITO GERADO POR COMPRA DE VC  Porcentagem do Volume Total: 75.64%\n"
          ],
          "name": "stdout"
        }
      ]
    },
    {
      "cell_type": "code",
      "metadata": {
        "colab": {
          "base_uri": "https://localhost:8080/",
          "height": 487
        },
        "id": "TB6GbRAvPWf4",
        "outputId": "025370c6-1e98-43d9-e0c2-32dea5eae982"
      },
      "source": [
        "plotar_grafico_pizza(df_entradaVolume,\"PORCENTAGEM\",\"TIPO_TRANSACAO_VC\",explode=[0.1,0.1,0.2])"
      ],
      "execution_count": null,
      "outputs": [
        {
          "output_type": "display_data",
          "data": {
            "image/png": "[encoded data removed]",
            "text/plain": [
              "<Figure size 720x504 with 1 Axes>"
            ]
          },
          "metadata": {
            "tags": []
          }
        }
      ]
    },
    {
      "cell_type": "markdown",
      "metadata": {
        "id": "NZliJtA8N1CH"
      },
      "source": [
        "# **5.0 VALOR MÉDIO MOVIMENTADO POR PESSOA**"
      ]
    },
    {
      "cell_type": "code",
      "metadata": {
        "colab": {
          "base_uri": "https://localhost:8080/"
        },
        "id": "9JLMvjFyN5cG",
        "outputId": "33e6ef5b-3b5c-4b92-9603-920894ebfab9"
      },
      "source": [
        "df_agrupPessoa  = df_transacoes.copy()\n",
        "df_agrupPessoa['VALOR_MOVIMENTADO'] = abs(df_agrupPessoa['VALOR_MOVIMENTADO'])\n",
        "df_agrupPessoa = df_agrupPessoa.groupby(['CLIENTE']).agg({'VALOR_MOVIMENTADO':'sum','DEBITO_OU_CREDITO':'count'})\n",
        "df_agrupPessoa = df_agrupPessoa.rename(columns={'DEBITO_OU_CREDITO':'N_OCORRENCIA'}).reset_index(drop = False)\n",
        "print(f\"Valor Médio Movimentado por pessoa: {df_agrupPessoa['VALOR_MOVIMENTADO'].sum()/df_agrupPessoa['CLIENTE'].count():.2f} BRL\")\n",
        "# Considerou-se que todas as operacoes realizadas por uma mesma pessoa deveriam ser somadas, e as operacoes de saída deveriam ser consideraos\n",
        "#seus valores absolutos, não importando o sentido da operação.\n"
      ],
      "execution_count": null,
      "outputs": [
        {
          "output_type": "stream",
          "text": [
            "Valor Médio Movimentado por pessoa: 49.65 BRL\n"
          ],
          "name": "stdout"
        }
      ]
    },
    {
      "cell_type": "markdown",
      "metadata": {
        "id": "_T6ncvKQbi3M"
      },
      "source": [
        "# **5.1 VALOR MÉDIO MOVIMENTADO POR TRANSACAO**"
      ]
    },
    {
      "cell_type": "code",
      "metadata": {
        "colab": {
          "base_uri": "https://localhost:8080/"
        },
        "id": "v3H6B7BDbpMi",
        "outputId": "22896e7f-907a-41ea-8262-79fa56735166"
      },
      "source": [
        "print(f\"Valor Médio Movimentado por transação: {df_agrupPessoa['VALOR_MOVIMENTADO'].sum()/df_agrupPessoa['N_OCORRENCIA'].sum():.2f} BRL\")\n"
      ],
      "execution_count": null,
      "outputs": [
        {
          "output_type": "stream",
          "text": [
            "Valor Médio Movimentado por transação: 31.13 BRL\n"
          ],
          "name": "stdout"
        }
      ]
    },
    {
      "cell_type": "markdown",
      "metadata": {
        "id": "WUxcSZU5cLRZ"
      },
      "source": [
        "# **5.2 VALOR MÉDIO DE CRÉDITOS E DÉBITOS MOVIMENTADOS POR PESSOA E POR TRANSACAO**"
      ]
    },
    {
      "cell_type": "code",
      "metadata": {
        "colab": {
          "base_uri": "https://localhost:8080/"
        },
        "id": "JRatijmQcmlm",
        "outputId": "be30bb96-2e6f-47e0-f80b-21d17012007f"
      },
      "source": [
        "df_agrupPessoaEntradas = df_transacoes[(df_transacoes['VALOR_MOVIMENTADO']>0)].copy()\n",
        "df_agrupPessoaEntradas = df_agrupPessoaEntradas.groupby(['CLIENTE']).agg({'VALOR_MOVIMENTADO':'sum','DEBITO_OU_CREDITO':'count'})\n",
        "df_agrupPessoaEntradas = df_agrupPessoaEntradas.rename(columns={'DEBITO_OU_CREDITO':'N_OCORRENCIA'}).reset_index(drop = False)\n",
        "print(f\"Valor Médio de Crédito por pessoa: {df_agrupPessoaEntradas['VALOR_MOVIMENTADO'].sum()/df_agrupPessoaEntradas['CLIENTE'].count():.2f} BRL\")\n",
        "print(f\"Valor Médio de Crédito por transacao: {df_agrupPessoaEntradas['VALOR_MOVIMENTADO'].sum()/df_agrupPessoaEntradas['N_OCORRENCIA'].sum():.2f} BRL\")\n",
        "\n",
        "\n",
        "df_agrupPessoaSaidas = df_transacoes[(df_transacoes['VALOR_MOVIMENTADO']<0)].copy()\n",
        "df_agrupPessoaSaidas = df_agrupPessoaSaidas.groupby(['CLIENTE']).agg({'VALOR_MOVIMENTADO':'sum','DEBITO_OU_CREDITO':'count'})\n",
        "df_agrupPessoaSaidas = df_agrupPessoaSaidas.rename(columns={'DEBITO_OU_CREDITO':'N_OCORRENCIA'}).reset_index(drop = False)\n",
        "print(f\"Valor Médio de Débito por pessoa: {df_agrupPessoaSaidas['VALOR_MOVIMENTADO'].sum()/df_agrupPessoaSaidas['CLIENTE'].count():.2f} BRL\")\n",
        "print(f\"Valor Médio de Débito por transacao: {df_agrupPessoaSaidas['VALOR_MOVIMENTADO'].sum()/df_agrupPessoaSaidas['N_OCORRENCIA'].sum():.2f} BRL\")\n",
        "\n",
        "# Considerou-se que todas as operacoes realizadas por uma mesma pessoa deveriam ser somadas. Neste caso o sentido da operação importa\n"
      ],
      "execution_count": null,
      "outputs": [
        {
          "output_type": "stream",
          "text": [
            "Valor Médio de Crédito por pessoa: 31.20 BRL\n",
            "Valor Médio de Crédito por transacao: 22.41 BRL\n",
            "Valor Médio de Débito por pessoa: -65.07 BRL\n",
            "Valor Médio de Débito por transacao: -52.12 BRL\n"
          ],
          "name": "stdout"
        }
      ]
    },
    {
      "cell_type": "markdown",
      "metadata": {
        "id": "EQNTiLWI1q7m"
      },
      "source": [
        "# **6.0 ID_LISTA_PRESENTES**\n"
      ]
    },
    {
      "cell_type": "code",
      "metadata": {
        "colab": {
          "base_uri": "https://localhost:8080/",
          "height": 576
        },
        "id": "JcXiN5k317RI",
        "outputId": "0425ab99-5076-4c2e-9fe4-af329b16748d"
      },
      "source": [
        "df_presentes = df_transacoes.copy()\n",
        "df_presentes = df_presentes.groupby([df_presentes['ID_LISTA_PRESENTES']]).agg({'DEBITO_OU_CREDITO':'count'}).reset_index(drop = False)\n",
        "df_presentes = df_presentes.sort_values(['DEBITO_OU_CREDITO'] ,ascending = [False])\n",
        "df_presentes = df_presentes.rename(columns={'DEBITO_OU_CREDITO':'N_OCORRENCIA'})\n",
        "df_presentes= df_presentes[(df_presentes['N_OCORRENCIA'])>5].copy().reset_index(drop = False)\n",
        "df_presentes = df_presentes.drop(['index'], axis = 'columns')\n",
        "df_presentes= df_presentes[(df_presentes['ID_LISTA_PRESENTES'])!=0].copy()\n",
        "df_presentes"
      ],
      "execution_count": null,
      "outputs": [
        {
          "output_type": "execute_result",
          "data": {
            "text/html": [
              "<div>\n",
              "<style scoped>\n",
              "    .dataframe tbody tr th:only-of-type {\n",
              "        vertical-align: middle;\n",
              "    }\n",
              "\n",
              "    .dataframe tbody tr th {\n",
              "        vertical-align: top;\n",
              "    }\n",
              "\n",
              "    .dataframe thead th {\n",
              "        text-align: right;\n",
              "    }\n",
              "</style>\n",
              "<table border=\"1\" class=\"dataframe\">\n",
              "  <thead>\n",
              "    <tr style=\"text-align: right;\">\n",
              "      <th></th>\n",
              "      <th>ID_LISTA_PRESENTES</th>\n",
              "      <th>N_OCORRENCIA</th>\n",
              "    </tr>\n",
              "  </thead>\n",
              "  <tbody>\n",
              "    <tr>\n",
              "      <th>1</th>\n",
              "      <td>1074506</td>\n",
              "      <td>8</td>\n",
              "    </tr>\n",
              "    <tr>\n",
              "      <th>2</th>\n",
              "      <td>1145014</td>\n",
              "      <td>8</td>\n",
              "    </tr>\n",
              "    <tr>\n",
              "      <th>3</th>\n",
              "      <td>895511</td>\n",
              "      <td>7</td>\n",
              "    </tr>\n",
              "    <tr>\n",
              "      <th>4</th>\n",
              "      <td>984018</td>\n",
              "      <td>7</td>\n",
              "    </tr>\n",
              "    <tr>\n",
              "      <th>5</th>\n",
              "      <td>530523</td>\n",
              "      <td>7</td>\n",
              "    </tr>\n",
              "    <tr>\n",
              "      <th>6</th>\n",
              "      <td>1112022</td>\n",
              "      <td>7</td>\n",
              "    </tr>\n",
              "    <tr>\n",
              "      <th>7</th>\n",
              "      <td>1141026</td>\n",
              "      <td>7</td>\n",
              "    </tr>\n",
              "    <tr>\n",
              "      <th>8</th>\n",
              "      <td>407507</td>\n",
              "      <td>7</td>\n",
              "    </tr>\n",
              "    <tr>\n",
              "      <th>9</th>\n",
              "      <td>2003624</td>\n",
              "      <td>6</td>\n",
              "    </tr>\n",
              "    <tr>\n",
              "      <th>10</th>\n",
              "      <td>1246024</td>\n",
              "      <td>6</td>\n",
              "    </tr>\n",
              "    <tr>\n",
              "      <th>11</th>\n",
              "      <td>2003754</td>\n",
              "      <td>6</td>\n",
              "    </tr>\n",
              "    <tr>\n",
              "      <th>12</th>\n",
              "      <td>2005200</td>\n",
              "      <td>6</td>\n",
              "    </tr>\n",
              "    <tr>\n",
              "      <th>13</th>\n",
              "      <td>593029</td>\n",
              "      <td>6</td>\n",
              "    </tr>\n",
              "    <tr>\n",
              "      <th>14</th>\n",
              "      <td>2004180</td>\n",
              "      <td>6</td>\n",
              "    </tr>\n",
              "    <tr>\n",
              "      <th>15</th>\n",
              "      <td>2001975</td>\n",
              "      <td>6</td>\n",
              "    </tr>\n",
              "    <tr>\n",
              "      <th>16</th>\n",
              "      <td>805012</td>\n",
              "      <td>6</td>\n",
              "    </tr>\n",
              "    <tr>\n",
              "      <th>17</th>\n",
              "      <td>2004999</td>\n",
              "      <td>6</td>\n",
              "    </tr>\n",
              "  </tbody>\n",
              "</table>\n",
              "</div>"
            ],
            "text/plain": [
              "    ID_LISTA_PRESENTES  N_OCORRENCIA\n",
              "1              1074506             8\n",
              "2              1145014             8\n",
              "3               895511             7\n",
              "4               984018             7\n",
              "5               530523             7\n",
              "6              1112022             7\n",
              "7              1141026             7\n",
              "8               407507             7\n",
              "9              2003624             6\n",
              "10             1246024             6\n",
              "11             2003754             6\n",
              "12             2005200             6\n",
              "13              593029             6\n",
              "14             2004180             6\n",
              "15             2001975             6\n",
              "16              805012             6\n",
              "17             2004999             6"
            ]
          },
          "metadata": {
            "tags": []
          },
          "execution_count": 30
        }
      ]
    },
    {
      "cell_type": "markdown",
      "metadata": {
        "id": "LIS1Z7lv9cg4"
      },
      "source": [
        "# **7.0 DISTRIBUICAO DOS DADOS NO TEMPO**\n"
      ]
    },
    {
      "cell_type": "code",
      "metadata": {
        "id": "arwJhFEsDPMW"
      },
      "source": [
        "def definir_status(credito_ou_debito,status):\n",
        "  if (credito_ou_debito == status):\n",
        "    return 1\n",
        "  else:\n",
        "    return 0"
      ],
      "execution_count": null,
      "outputs": []
    },
    {
      "cell_type": "code",
      "metadata": {
        "colab": {
          "base_uri": "https://localhost:8080/",
          "height": 204
        },
        "id": "He8q83YW9csb",
        "outputId": "39aaccac-caa3-4ab6-8a71-904f3cd67d4e"
      },
      "source": [
        "df_debitoxCredito = df_transacoes.copy()\n",
        "df_debitoxCredito['CREDITO'] = df_debitoxCredito.apply(lambda row: definir_status(row['DEBITO_OU_CREDITO'],'CREDITO'), axis = 'columns')\n",
        "df_debitoxCredito['DEBITO'] = df_debitoxCredito.apply(lambda row: definir_status(row['DEBITO_OU_CREDITO'],'DEBITO'), axis = 'columns')\n",
        "df_debitoxCredito = df_debitoxCredito.groupby([df_debitoxCredito['DATA_DA_MOVIMENTACAO'].dt.year]).agg({'CREDITO':'sum','DEBITO':'sum' }).reset_index(drop = False).copy()\n",
        "df_debitoxCredito['PORCENTAGEM_DEBITO'] = (df_debitoxCredito['DEBITO']*100/(df_debitoxCredito['CREDITO'] + df_debitoxCredito['DEBITO'] )).round(2)\n",
        "df_debitoxCredito['PORCENTAGEM_CREDITO'] = (df_debitoxCredito['CREDITO']*100/(df_debitoxCredito['CREDITO'] + df_debitoxCredito['DEBITO'] )).round(2)\n",
        "\n",
        "df_debitoxCredito\n",
        "\n",
        "\n",
        "#Ocorrencias de Creditos e Debitos ao Longo dos anos"
      ],
      "execution_count": null,
      "outputs": [
        {
          "output_type": "execute_result",
          "data": {
            "text/html": [
              "<div>\n",
              "<style scoped>\n",
              "    .dataframe tbody tr th:only-of-type {\n",
              "        vertical-align: middle;\n",
              "    }\n",
              "\n",
              "    .dataframe tbody tr th {\n",
              "        vertical-align: top;\n",
              "    }\n",
              "\n",
              "    .dataframe thead th {\n",
              "        text-align: right;\n",
              "    }\n",
              "</style>\n",
              "<table border=\"1\" class=\"dataframe\">\n",
              "  <thead>\n",
              "    <tr style=\"text-align: right;\">\n",
              "      <th></th>\n",
              "      <th>DATA_DA_MOVIMENTACAO</th>\n",
              "      <th>CREDITO</th>\n",
              "      <th>DEBITO</th>\n",
              "      <th>PORCENTAGEM_DEBITO</th>\n",
              "      <th>PORCENTAGEM_CREDITO</th>\n",
              "    </tr>\n",
              "  </thead>\n",
              "  <tbody>\n",
              "    <tr>\n",
              "      <th>0</th>\n",
              "      <td>2016</td>\n",
              "      <td>29720</td>\n",
              "      <td>5817</td>\n",
              "      <td>16.37</td>\n",
              "      <td>83.63</td>\n",
              "    </tr>\n",
              "    <tr>\n",
              "      <th>1</th>\n",
              "      <td>2017</td>\n",
              "      <td>43539</td>\n",
              "      <td>13042</td>\n",
              "      <td>23.05</td>\n",
              "      <td>76.95</td>\n",
              "    </tr>\n",
              "    <tr>\n",
              "      <th>2</th>\n",
              "      <td>2018</td>\n",
              "      <td>58173</td>\n",
              "      <td>22354</td>\n",
              "      <td>27.76</td>\n",
              "      <td>72.24</td>\n",
              "    </tr>\n",
              "    <tr>\n",
              "      <th>3</th>\n",
              "      <td>2019</td>\n",
              "      <td>74815</td>\n",
              "      <td>31415</td>\n",
              "      <td>29.57</td>\n",
              "      <td>70.43</td>\n",
              "    </tr>\n",
              "    <tr>\n",
              "      <th>4</th>\n",
              "      <td>2020</td>\n",
              "      <td>62451</td>\n",
              "      <td>38998</td>\n",
              "      <td>38.44</td>\n",
              "      <td>61.56</td>\n",
              "    </tr>\n",
              "  </tbody>\n",
              "</table>\n",
              "</div>"
            ],
            "text/plain": [
              "   DATA_DA_MOVIMENTACAO  CREDITO  ...  PORCENTAGEM_DEBITO  PORCENTAGEM_CREDITO\n",
              "0                  2016    29720  ...               16.37                83.63\n",
              "1                  2017    43539  ...               23.05                76.95\n",
              "2                  2018    58173  ...               27.76                72.24\n",
              "3                  2019    74815  ...               29.57                70.43\n",
              "4                  2020    62451  ...               38.44                61.56\n",
              "\n",
              "[5 rows x 5 columns]"
            ]
          },
          "metadata": {
            "tags": []
          },
          "execution_count": 32
        }
      ]
    },
    {
      "cell_type": "code",
      "metadata": {
        "colab": {
          "base_uri": "https://localhost:8080/",
          "height": 445
        },
        "id": "whWxj_k5QdOL",
        "outputId": "c5853d79-bc13-41d8-a0f1-b6fff1aaf450"
      },
      "source": [
        "grafico_barras(df_debitoxCredito, 'DATA_DA_MOVIMENTACAO', 'CREDITO','DEBITO')"
      ],
      "execution_count": null,
      "outputs": [
        {
          "output_type": "stream",
          "text": [
            "No handles with labels found to put in legend.\n"
          ],
          "name": "stderr"
        },
        {
          "output_type": "display_data",
          "data": {
            "image/png": "[encoded data removed]",
            "text/plain": [
              "<Figure size 720x504 with 2 Axes>"
            ]
          },
          "metadata": {
            "tags": [],
            "needs_background": "light"
          }
        }
      ]
    },
    {
      "cell_type": "markdown",
      "metadata": {
        "id": "BD5o8BcIWxHG"
      },
      "source": [
        "# **7.1 FREQUENCIA DOS DEBITOS ANO A ANO** **"
      ]
    },
    {
      "cell_type": "code",
      "metadata": {
        "colab": {
          "base_uri": "https://localhost:8080/",
          "height": 421
        },
        "id": "KxTIskJJJ_bb",
        "outputId": "6598548e-2f23-43ee-85f1-9d99b814cf29"
      },
      "source": [
        "df_debitoV = df_transacoes[(df_transacoes['VALOR_MOVIMENTADO']<0)].copy()\n",
        "df_debitoV['DATA_DA_MOVIMENTACAO'] = df_debitoV['DATA_DA_MOVIMENTACAO'].dt.year\n",
        "df_debitoV['2016'] = df_debitoV.apply(lambda row: definir_status(row['DATA_DA_MOVIMENTACAO'],2016), axis = 'columns')\n",
        "df_debitoV['2017'] = df_debitoV.apply(lambda row: definir_status(row['DATA_DA_MOVIMENTACAO'],2017), axis = 'columns')\n",
        "df_debitoV['2018'] = df_debitoV.apply(lambda row: definir_status(row['DATA_DA_MOVIMENTACAO'],2018), axis = 'columns')\n",
        "df_debitoV['2019'] = df_debitoV.apply(lambda row: definir_status(row['DATA_DA_MOVIMENTACAO'],2019), axis = 'columns')\n",
        "df_debitoV['2020'] = df_debitoV.apply(lambda row: definir_status(row['DATA_DA_MOVIMENTACAO'],2020), axis = 'columns')\n",
        "df_tipoDebito = df_debitoV.copy()\n",
        "df_amostra = df_debitoV.copy()\n",
        "\n",
        "df_debitoV = df_debitoV.groupby([df_debitoV['TIPO_TRANSACAO_VC']]).agg({'2016':'sum','2017':'sum','2018':'sum','2019':'sum','2020':'sum'})\n",
        "df_debitoV['TOTAL'] = df_debitoV['2020'] + df_debitoV['2019'] +df_debitoV['2018'] + df_debitoV['2017'] + df_debitoV['2016']\n",
        "df_debitoV = df_debitoV.sort_values(['TOTAL'] ,ascending = [False]).reset_index(drop = False).copy()\n",
        "df_debitoV['TIPO_TRANSACAO_VC'] = df_debitoV['TIPO_TRANSACAO_VC'].str.replace('_',' ')\n",
        "df_debitoV\n",
        "#  TODOS OS TIPOS DE DEBITOS ANO A ANO - analisados pela frequencia do acontecimento"
      ],
      "execution_count": null,
      "outputs": [
        {
          "output_type": "execute_result",
          "data": {
            "text/html": [
              "<div>\n",
              "<style scoped>\n",
              "    .dataframe tbody tr th:only-of-type {\n",
              "        vertical-align: middle;\n",
              "    }\n",
              "\n",
              "    .dataframe tbody tr th {\n",
              "        vertical-align: top;\n",
              "    }\n",
              "\n",
              "    .dataframe thead th {\n",
              "        text-align: right;\n",
              "    }\n",
              "</style>\n",
              "<table border=\"1\" class=\"dataframe\">\n",
              "  <thead>\n",
              "    <tr style=\"text-align: right;\">\n",
              "      <th></th>\n",
              "      <th>TIPO_TRANSACAO_VC</th>\n",
              "      <th>2016</th>\n",
              "      <th>2017</th>\n",
              "      <th>2018</th>\n",
              "      <th>2019</th>\n",
              "      <th>2020</th>\n",
              "      <th>TOTAL</th>\n",
              "    </tr>\n",
              "  </thead>\n",
              "  <tbody>\n",
              "    <tr>\n",
              "      <th>0</th>\n",
              "      <td>DEBITO PAGAMENTO COM VC</td>\n",
              "      <td>4032</td>\n",
              "      <td>8500</td>\n",
              "      <td>14325</td>\n",
              "      <td>18134</td>\n",
              "      <td>11809</td>\n",
              "      <td>56800</td>\n",
              "    </tr>\n",
              "    <tr>\n",
              "      <th>1</th>\n",
              "      <td>DEBITO COMPRA COM VC</td>\n",
              "      <td>1782</td>\n",
              "      <td>4538</td>\n",
              "      <td>8019</td>\n",
              "      <td>9485</td>\n",
              "      <td>8767</td>\n",
              "      <td>32591</td>\n",
              "    </tr>\n",
              "    <tr>\n",
              "      <th>2</th>\n",
              "      <td>DEBITO AUTOMATICO PAG PRESTACOES</td>\n",
              "      <td>0</td>\n",
              "      <td>0</td>\n",
              "      <td>0</td>\n",
              "      <td>3781</td>\n",
              "      <td>18338</td>\n",
              "      <td>22119</td>\n",
              "    </tr>\n",
              "    <tr>\n",
              "      <th>3</th>\n",
              "      <td>TRANSFERENCIA ENTRE CLIENTES BEMOL</td>\n",
              "      <td>0</td>\n",
              "      <td>0</td>\n",
              "      <td>0</td>\n",
              "      <td>0</td>\n",
              "      <td>43</td>\n",
              "      <td>43</td>\n",
              "    </tr>\n",
              "    <tr>\n",
              "      <th>4</th>\n",
              "      <td>DEBITO DEVOLUCAO COMPRA DE VC</td>\n",
              "      <td>0</td>\n",
              "      <td>0</td>\n",
              "      <td>0</td>\n",
              "      <td>3</td>\n",
              "      <td>16</td>\n",
              "      <td>19</td>\n",
              "    </tr>\n",
              "    <tr>\n",
              "      <th>5</th>\n",
              "      <td>TRANSFERENCIA ENTRE CLIENTES BEMOL WHATSAPP</td>\n",
              "      <td>0</td>\n",
              "      <td>0</td>\n",
              "      <td>0</td>\n",
              "      <td>0</td>\n",
              "      <td>19</td>\n",
              "      <td>19</td>\n",
              "    </tr>\n",
              "    <tr>\n",
              "      <th>6</th>\n",
              "      <td>DEBITO ESTORNO LISTA PRESENTES</td>\n",
              "      <td>3</td>\n",
              "      <td>1</td>\n",
              "      <td>3</td>\n",
              "      <td>5</td>\n",
              "      <td>4</td>\n",
              "      <td>16</td>\n",
              "    </tr>\n",
              "    <tr>\n",
              "      <th>7</th>\n",
              "      <td>DEBITO POR ESTORNO TROCO</td>\n",
              "      <td>0</td>\n",
              "      <td>3</td>\n",
              "      <td>7</td>\n",
              "      <td>5</td>\n",
              "      <td>1</td>\n",
              "      <td>16</td>\n",
              "    </tr>\n",
              "    <tr>\n",
              "      <th>8</th>\n",
              "      <td>AJUSTE CONTABIL OU LANCAM INCORRETO</td>\n",
              "      <td>0</td>\n",
              "      <td>0</td>\n",
              "      <td>0</td>\n",
              "      <td>1</td>\n",
              "      <td>0</td>\n",
              "      <td>1</td>\n",
              "    </tr>\n",
              "    <tr>\n",
              "      <th>9</th>\n",
              "      <td>DEBITO DEVOLUCAO COMPRA FEITA COM VC</td>\n",
              "      <td>0</td>\n",
              "      <td>0</td>\n",
              "      <td>1</td>\n",
              "      <td>0</td>\n",
              "      <td>0</td>\n",
              "      <td>1</td>\n",
              "    </tr>\n",
              "    <tr>\n",
              "      <th>10</th>\n",
              "      <td>DEBITO DUPLICIDADE LANCAMENTO</td>\n",
              "      <td>0</td>\n",
              "      <td>0</td>\n",
              "      <td>0</td>\n",
              "      <td>1</td>\n",
              "      <td>0</td>\n",
              "      <td>1</td>\n",
              "    </tr>\n",
              "    <tr>\n",
              "      <th>11</th>\n",
              "      <td>DOACAO</td>\n",
              "      <td>0</td>\n",
              "      <td>0</td>\n",
              "      <td>0</td>\n",
              "      <td>0</td>\n",
              "      <td>1</td>\n",
              "      <td>1</td>\n",
              "    </tr>\n",
              "  </tbody>\n",
              "</table>\n",
              "</div>"
            ],
            "text/plain": [
              "                              TIPO_TRANSACAO_VC  2016  ...   2020  TOTAL\n",
              "0                       DEBITO PAGAMENTO COM VC  4032  ...  11809  56800\n",
              "1                          DEBITO COMPRA COM VC  1782  ...   8767  32591\n",
              "2              DEBITO AUTOMATICO PAG PRESTACOES     0  ...  18338  22119\n",
              "3            TRANSFERENCIA ENTRE CLIENTES BEMOL     0  ...     43     43\n",
              "4                 DEBITO DEVOLUCAO COMPRA DE VC     0  ...     16     19\n",
              "5   TRANSFERENCIA ENTRE CLIENTES BEMOL WHATSAPP     0  ...     19     19\n",
              "6                DEBITO ESTORNO LISTA PRESENTES     3  ...      4     16\n",
              "7                      DEBITO POR ESTORNO TROCO     0  ...      1     16\n",
              "8           AJUSTE CONTABIL OU LANCAM INCORRETO     0  ...      0      1\n",
              "9          DEBITO DEVOLUCAO COMPRA FEITA COM VC     0  ...      0      1\n",
              "10                DEBITO DUPLICIDADE LANCAMENTO     0  ...      0      1\n",
              "11                                       DOACAO     0  ...      1      1\n",
              "\n",
              "[12 rows x 7 columns]"
            ]
          },
          "metadata": {
            "tags": []
          },
          "execution_count": 34
        }
      ]
    },
    {
      "cell_type": "code",
      "metadata": {
        "colab": {
          "base_uri": "https://localhost:8080/",
          "height": 463
        },
        "id": "ZXPX4Nejgq8i",
        "outputId": "b0bb0d91-908b-475b-9cf9-3f6e8601df06"
      },
      "source": [
        "grafico_linhas(df_debitoV,\"FREQUENCIA DOS DEBITOS ANO A ANO\",\"DATA\",\"DÉBITO\")"
      ],
      "execution_count": null,
      "outputs": [
        {
          "output_type": "display_data",
          "data": {
            "image/png": "[encoded data removed]",
            "text/plain": [
              "<Figure size 720x504 with 1 Axes>"
            ]
          },
          "metadata": {
            "tags": [],
            "needs_background": "light"
          }
        }
      ]
    },
    {
      "cell_type": "markdown",
      "metadata": {
        "id": "SUs0WZuKkz9w"
      },
      "source": [
        "# **7.2 TOTAL DOS DEBITOS ANO A ANO**"
      ]
    },
    {
      "cell_type": "code",
      "metadata": {
        "id": "3dHpZ3R-ZgQU"
      },
      "source": [
        "def retornar_movimentacao(ano, movimentacao):\n",
        "  if (ano == 1):\n",
        "    return abs(movimentacao)\n",
        "  else:\n",
        "    return 0"
      ],
      "execution_count": null,
      "outputs": []
    },
    {
      "cell_type": "code",
      "metadata": {
        "id": "p5YQrh_7WEqe"
      },
      "source": [
        "df_tipoDebito['2016'] = df_tipoDebito.apply(lambda row: retornar_movimentacao(row['2016'],row['VALOR_MOVIMENTADO']), axis = 'columns')\n",
        "df_tipoDebito['2017'] = df_tipoDebito.apply(lambda row: retornar_movimentacao(row['2017'],row['VALOR_MOVIMENTADO']), axis = 'columns')\n",
        "df_tipoDebito['2018'] = df_tipoDebito.apply(lambda row: retornar_movimentacao(row['2018'],row['VALOR_MOVIMENTADO']), axis = 'columns')\n",
        "df_tipoDebito['2019'] = df_tipoDebito.apply(lambda row: retornar_movimentacao(row['2019'],row['VALOR_MOVIMENTADO']), axis = 'columns')\n",
        "df_tipoDebito['2020'] = df_tipoDebito.apply(lambda row: retornar_movimentacao(row['2020'],row['VALOR_MOVIMENTADO']), axis = 'columns')\n",
        "df_amostra3 = df_tipoDebito.copy()\n",
        "df_tipoDebito = df_tipoDebito.groupby([df_tipoDebito['TIPO_TRANSACAO_VC']]).agg({'2016':'sum','2017':'sum','2018':'sum','2019':'sum','2020':'sum'})\n",
        "df_tipoDebito['TOTAL'] = df_tipoDebito['2020'] + df_tipoDebito['2019'] +df_tipoDebito['2018'] + df_tipoDebito['2017'] + df_tipoDebito['2016']\n"
      ],
      "execution_count": null,
      "outputs": []
    },
    {
      "cell_type": "code",
      "metadata": {
        "colab": {
          "base_uri": "https://localhost:8080/",
          "height": 421
        },
        "id": "-87miNyCdYPY",
        "outputId": "40304092-5214-40e2-fae3-b61d29a82384"
      },
      "source": [
        "df_tipoDebito = df_tipoDebito.sort_values(['TOTAL'] ,ascending = [False]).reset_index(drop = False).copy()\n",
        "df_tipoDebito['TIPO_TRANSACAO_VC'] = df_tipoDebito['TIPO_TRANSACAO_VC'].str.replace('_',' ')\n",
        "df_tipoDebito"
      ],
      "execution_count": null,
      "outputs": [
        {
          "output_type": "execute_result",
          "data": {
            "text/html": [
              "<div>\n",
              "<style scoped>\n",
              "    .dataframe tbody tr th:only-of-type {\n",
              "        vertical-align: middle;\n",
              "    }\n",
              "\n",
              "    .dataframe tbody tr th {\n",
              "        vertical-align: top;\n",
              "    }\n",
              "\n",
              "    .dataframe thead th {\n",
              "        text-align: right;\n",
              "    }\n",
              "</style>\n",
              "<table border=\"1\" class=\"dataframe\">\n",
              "  <thead>\n",
              "    <tr style=\"text-align: right;\">\n",
              "      <th></th>\n",
              "      <th>TIPO_TRANSACAO_VC</th>\n",
              "      <th>2016</th>\n",
              "      <th>2017</th>\n",
              "      <th>2018</th>\n",
              "      <th>2019</th>\n",
              "      <th>2020</th>\n",
              "      <th>TOTAL</th>\n",
              "    </tr>\n",
              "  </thead>\n",
              "  <tbody>\n",
              "    <tr>\n",
              "      <th>0</th>\n",
              "      <td>DEBITO AUTOMATICO PAG PRESTACOES</td>\n",
              "      <td>0.00</td>\n",
              "      <td>0.00</td>\n",
              "      <td>0.00</td>\n",
              "      <td>620507.38</td>\n",
              "      <td>2266625.74</td>\n",
              "      <td>2887133.12</td>\n",
              "    </tr>\n",
              "    <tr>\n",
              "      <th>1</th>\n",
              "      <td>DEBITO COMPRA COM VC</td>\n",
              "      <td>256618.35</td>\n",
              "      <td>189242.25</td>\n",
              "      <td>218930.90</td>\n",
              "      <td>380293.88</td>\n",
              "      <td>622095.34</td>\n",
              "      <td>1667180.72</td>\n",
              "    </tr>\n",
              "    <tr>\n",
              "      <th>2</th>\n",
              "      <td>DEBITO PAGAMENTO COM VC</td>\n",
              "      <td>6619.75</td>\n",
              "      <td>11417.29</td>\n",
              "      <td>18855.93</td>\n",
              "      <td>684022.73</td>\n",
              "      <td>487640.41</td>\n",
              "      <td>1208556.11</td>\n",
              "    </tr>\n",
              "    <tr>\n",
              "      <th>3</th>\n",
              "      <td>TRANSFERENCIA ENTRE CLIENTES BEMOL WHATSAPP</td>\n",
              "      <td>0.00</td>\n",
              "      <td>0.00</td>\n",
              "      <td>0.00</td>\n",
              "      <td>0.00</td>\n",
              "      <td>27891.00</td>\n",
              "      <td>27891.00</td>\n",
              "    </tr>\n",
              "    <tr>\n",
              "      <th>4</th>\n",
              "      <td>TRANSFERENCIA ENTRE CLIENTES BEMOL</td>\n",
              "      <td>0.00</td>\n",
              "      <td>0.00</td>\n",
              "      <td>0.00</td>\n",
              "      <td>0.00</td>\n",
              "      <td>18299.60</td>\n",
              "      <td>18299.60</td>\n",
              "    </tr>\n",
              "    <tr>\n",
              "      <th>5</th>\n",
              "      <td>DEBITO ESTORNO LISTA PRESENTES</td>\n",
              "      <td>997.00</td>\n",
              "      <td>79.00</td>\n",
              "      <td>165.00</td>\n",
              "      <td>2147.00</td>\n",
              "      <td>772.00</td>\n",
              "      <td>4160.00</td>\n",
              "    </tr>\n",
              "    <tr>\n",
              "      <th>6</th>\n",
              "      <td>DEBITO DEVOLUCAO COMPRA DE VC</td>\n",
              "      <td>0.00</td>\n",
              "      <td>0.00</td>\n",
              "      <td>0.00</td>\n",
              "      <td>153.00</td>\n",
              "      <td>3883.49</td>\n",
              "      <td>4036.49</td>\n",
              "    </tr>\n",
              "    <tr>\n",
              "      <th>7</th>\n",
              "      <td>DEBITO POR ESTORNO TROCO</td>\n",
              "      <td>0.00</td>\n",
              "      <td>113.03</td>\n",
              "      <td>93.88</td>\n",
              "      <td>24.31</td>\n",
              "      <td>20.00</td>\n",
              "      <td>251.22</td>\n",
              "    </tr>\n",
              "    <tr>\n",
              "      <th>8</th>\n",
              "      <td>AJUSTE CONTABIL OU LANCAM INCORRETO</td>\n",
              "      <td>0.00</td>\n",
              "      <td>0.00</td>\n",
              "      <td>0.00</td>\n",
              "      <td>65.00</td>\n",
              "      <td>0.00</td>\n",
              "      <td>65.00</td>\n",
              "    </tr>\n",
              "    <tr>\n",
              "      <th>9</th>\n",
              "      <td>DEBITO DUPLICIDADE LANCAMENTO</td>\n",
              "      <td>0.00</td>\n",
              "      <td>0.00</td>\n",
              "      <td>0.00</td>\n",
              "      <td>61.22</td>\n",
              "      <td>0.00</td>\n",
              "      <td>61.22</td>\n",
              "    </tr>\n",
              "    <tr>\n",
              "      <th>10</th>\n",
              "      <td>DEBITO DEVOLUCAO COMPRA FEITA COM VC</td>\n",
              "      <td>0.00</td>\n",
              "      <td>0.00</td>\n",
              "      <td>37.50</td>\n",
              "      <td>0.00</td>\n",
              "      <td>0.00</td>\n",
              "      <td>37.50</td>\n",
              "    </tr>\n",
              "    <tr>\n",
              "      <th>11</th>\n",
              "      <td>DOACAO</td>\n",
              "      <td>0.00</td>\n",
              "      <td>0.00</td>\n",
              "      <td>0.00</td>\n",
              "      <td>0.00</td>\n",
              "      <td>10.00</td>\n",
              "      <td>10.00</td>\n",
              "    </tr>\n",
              "  </tbody>\n",
              "</table>\n",
              "</div>"
            ],
            "text/plain": [
              "                              TIPO_TRANSACAO_VC  ...       TOTAL\n",
              "0              DEBITO AUTOMATICO PAG PRESTACOES  ...  2887133.12\n",
              "1                          DEBITO COMPRA COM VC  ...  1667180.72\n",
              "2                       DEBITO PAGAMENTO COM VC  ...  1208556.11\n",
              "3   TRANSFERENCIA ENTRE CLIENTES BEMOL WHATSAPP  ...    27891.00\n",
              "4            TRANSFERENCIA ENTRE CLIENTES BEMOL  ...    18299.60\n",
              "5                DEBITO ESTORNO LISTA PRESENTES  ...     4160.00\n",
              "6                 DEBITO DEVOLUCAO COMPRA DE VC  ...     4036.49\n",
              "7                      DEBITO POR ESTORNO TROCO  ...      251.22\n",
              "8           AJUSTE CONTABIL OU LANCAM INCORRETO  ...       65.00\n",
              "9                 DEBITO DUPLICIDADE LANCAMENTO  ...       61.22\n",
              "10         DEBITO DEVOLUCAO COMPRA FEITA COM VC  ...       37.50\n",
              "11                                       DOACAO  ...       10.00\n",
              "\n",
              "[12 rows x 7 columns]"
            ]
          },
          "metadata": {
            "tags": []
          },
          "execution_count": 38
        }
      ]
    },
    {
      "cell_type": "code",
      "metadata": {
        "colab": {
          "base_uri": "https://localhost:8080/",
          "height": 463
        },
        "id": "LKE0KfuTuZWG",
        "outputId": "d2d746f6-25c8-4e91-df5c-3963d26d823a"
      },
      "source": [
        "grafico_linhas(df_tipoDebito,\"TOTAL DE DEBITOS ANO A ANO\",\"DATA\",\"DÉBITO\")"
      ],
      "execution_count": null,
      "outputs": [
        {
          "output_type": "display_data",
          "data": {
            "image/png": "[encoded data removed]",
            "text/plain": [
              "<Figure size 720x504 with 1 Axes>"
            ]
          },
          "metadata": {
            "tags": [],
            "needs_background": "light"
          }
        }
      ]
    },
    {
      "cell_type": "markdown",
      "metadata": {
        "id": "_ROl0LI6ksmP"
      },
      "source": [
        "# **8.0 AMOSTRA TABELA 2 - AVALIAÇÃO DO NÍVEL DO CLIENTE **"
      ]
    },
    {
      "cell_type": "markdown",
      "metadata": {
        "id": "ib28_ArBpCb2"
      },
      "source": [
        "Frenquencia de Débitos"
      ]
    },
    {
      "cell_type": "code",
      "metadata": {
        "colab": {
          "base_uri": "https://localhost:8080/",
          "height": 204
        },
        "id": "NWxdbQdkks3b",
        "outputId": "2538baec-6df3-48d9-cb88-08955ed498c4"
      },
      "source": [
        "df_amostra2 = pd.merge(df_amostra, df_clientes, on =['CLIENTE'], how = 'left' )\n",
        "df_amostra2['DESCRICAO_NIVEL'] = df_amostra2['DESCRICAO_NIVEL'].fillna('vazio')\n",
        "df_amostra2 = df_amostra2[(df_amostra2['DESCRICAO_NIVEL'])!='vazio'].copy()\n",
        "df_amostra2.sort_values(['CLIENTE'] ,ascending = [False])\n",
        "df_amostra2 = df_amostra2.groupby([df_amostra2['DESCRICAO_NIVEL']]).agg({'2016':'sum','2017':'sum','2018':'sum','2019':'sum','2020':'sum'}).reset_index(drop = False)\n",
        "df_amostra2['TOTAL'] = df_amostra2['2020'] + df_amostra2['2019'] +df_amostra2['2018'] + df_amostra2['2017'] + df_amostra2['2016']\n",
        "df_amostra2 = df_amostra2.sort_values(['TOTAL'], ascending =[False] )\n",
        "df_amostra2 = df_amostra2.reset_index(drop = False)\n",
        "df_amostra2 = df_amostra2.drop(['index'], axis = 'columns')\n",
        "df_amostra2"
      ],
      "execution_count": null,
      "outputs": [
        {
          "output_type": "execute_result",
          "data": {
            "text/html": [
              "<div>\n",
              "<style scoped>\n",
              "    .dataframe tbody tr th:only-of-type {\n",
              "        vertical-align: middle;\n",
              "    }\n",
              "\n",
              "    .dataframe tbody tr th {\n",
              "        vertical-align: top;\n",
              "    }\n",
              "\n",
              "    .dataframe thead th {\n",
              "        text-align: right;\n",
              "    }\n",
              "</style>\n",
              "<table border=\"1\" class=\"dataframe\">\n",
              "  <thead>\n",
              "    <tr style=\"text-align: right;\">\n",
              "      <th></th>\n",
              "      <th>DESCRICAO_NIVEL</th>\n",
              "      <th>2016</th>\n",
              "      <th>2017</th>\n",
              "      <th>2018</th>\n",
              "      <th>2019</th>\n",
              "      <th>2020</th>\n",
              "      <th>TOTAL</th>\n",
              "    </tr>\n",
              "  </thead>\n",
              "  <tbody>\n",
              "    <tr>\n",
              "      <th>0</th>\n",
              "      <td>DIAMANTE+</td>\n",
              "      <td>15</td>\n",
              "      <td>33</td>\n",
              "      <td>58</td>\n",
              "      <td>70</td>\n",
              "      <td>122</td>\n",
              "      <td>298</td>\n",
              "    </tr>\n",
              "    <tr>\n",
              "      <th>1</th>\n",
              "      <td>DIAMANTE</td>\n",
              "      <td>12</td>\n",
              "      <td>19</td>\n",
              "      <td>20</td>\n",
              "      <td>58</td>\n",
              "      <td>80</td>\n",
              "      <td>189</td>\n",
              "    </tr>\n",
              "    <tr>\n",
              "      <th>2</th>\n",
              "      <td>OURO</td>\n",
              "      <td>0</td>\n",
              "      <td>5</td>\n",
              "      <td>5</td>\n",
              "      <td>18</td>\n",
              "      <td>46</td>\n",
              "      <td>74</td>\n",
              "    </tr>\n",
              "    <tr>\n",
              "      <th>3</th>\n",
              "      <td>PRATA</td>\n",
              "      <td>0</td>\n",
              "      <td>0</td>\n",
              "      <td>1</td>\n",
              "      <td>4</td>\n",
              "      <td>20</td>\n",
              "      <td>25</td>\n",
              "    </tr>\n",
              "    <tr>\n",
              "      <th>4</th>\n",
              "      <td>AZUL</td>\n",
              "      <td>0</td>\n",
              "      <td>0</td>\n",
              "      <td>0</td>\n",
              "      <td>0</td>\n",
              "      <td>5</td>\n",
              "      <td>5</td>\n",
              "    </tr>\n",
              "  </tbody>\n",
              "</table>\n",
              "</div>"
            ],
            "text/plain": [
              "  DESCRICAO_NIVEL  2016  2017  2018  2019  2020  TOTAL\n",
              "0       DIAMANTE+    15    33    58    70   122    298\n",
              "1        DIAMANTE    12    19    20    58    80    189\n",
              "2            OURO     0     5     5    18    46     74\n",
              "3           PRATA     0     0     1     4    20     25\n",
              "4            AZUL     0     0     0     0     5      5"
            ]
          },
          "metadata": {
            "tags": []
          },
          "execution_count": 40
        }
      ]
    },
    {
      "cell_type": "code",
      "metadata": {
        "colab": {
          "base_uri": "https://localhost:8080/",
          "height": 465
        },
        "id": "DJmuDPptQZ5R",
        "outputId": "8d5f8474-73ca-4b21-f775-84a5dbee818d"
      },
      "source": [
        "grafico_linhas(df_amostra2,\"FREQUENCIA DÉBITOS POR NÍVEL DO CLIENTE\",\"DATA\",\"DÉBITO (BRL)\")"
      ],
      "execution_count": null,
      "outputs": [
        {
          "output_type": "display_data",
          "data": {
            "image/png": "[encoded data removed]",
            "text/plain": [
              "<Figure size 720x504 with 1 Axes>"
            ]
          },
          "metadata": {
            "tags": [],
            "needs_background": "light"
          }
        }
      ]
    },
    {
      "cell_type": "code",
      "metadata": {
        "colab": {
          "base_uri": "https://localhost:8080/",
          "height": 204
        },
        "id": "fT_LNob-rTkE",
        "outputId": "5d64fb80-d944-4d0c-b3ee-2cbcc009a286"
      },
      "source": [
        "df_amostra4 = pd.merge(df_amostra3, df_clientes, on =['CLIENTE'], how = 'left' )\n",
        "df_amostra4['DESCRICAO_NIVEL'] = df_amostra4['DESCRICAO_NIVEL'].fillna('vazio')\n",
        "df_amostra4 = df_amostra4[(df_amostra4['DESCRICAO_NIVEL'])!='vazio'].copy()\n",
        "df_amostra4.sort_values(['CLIENTE'] ,ascending = [False])\n",
        "df_amostra4 = df_amostra4.groupby([df_amostra4['DESCRICAO_NIVEL']]).agg({'2016':'sum','2017':'sum','2018':'sum','2019':'sum','2020':'sum'}).reset_index(drop = False)\n",
        "df_amostra4['TOTAL'] = df_amostra4['2020'] + df_amostra4['2019'] +df_amostra4['2018'] + df_amostra4['2017'] + df_amostra4['2016']\n",
        "df_amostra4 = df_amostra4.sort_values(['TOTAL'], ascending =[False] )\n",
        "df_amostra4 = df_amostra4.reset_index(drop = False)\n",
        "df_amostra4 = df_amostra4.drop(['index'], axis = 'columns')\n",
        "df_amostra4"
      ],
      "execution_count": null,
      "outputs": [
        {
          "output_type": "execute_result",
          "data": {
            "text/html": [
              "<div>\n",
              "<style scoped>\n",
              "    .dataframe tbody tr th:only-of-type {\n",
              "        vertical-align: middle;\n",
              "    }\n",
              "\n",
              "    .dataframe tbody tr th {\n",
              "        vertical-align: top;\n",
              "    }\n",
              "\n",
              "    .dataframe thead th {\n",
              "        text-align: right;\n",
              "    }\n",
              "</style>\n",
              "<table border=\"1\" class=\"dataframe\">\n",
              "  <thead>\n",
              "    <tr style=\"text-align: right;\">\n",
              "      <th></th>\n",
              "      <th>DESCRICAO_NIVEL</th>\n",
              "      <th>2016</th>\n",
              "      <th>2017</th>\n",
              "      <th>2018</th>\n",
              "      <th>2019</th>\n",
              "      <th>2020</th>\n",
              "      <th>TOTAL</th>\n",
              "    </tr>\n",
              "  </thead>\n",
              "  <tbody>\n",
              "    <tr>\n",
              "      <th>0</th>\n",
              "      <td>DIAMANTE</td>\n",
              "      <td>221.20</td>\n",
              "      <td>17.09</td>\n",
              "      <td>17.53</td>\n",
              "      <td>4212.99</td>\n",
              "      <td>14538.37</td>\n",
              "      <td>19007.18</td>\n",
              "    </tr>\n",
              "    <tr>\n",
              "      <th>1</th>\n",
              "      <td>DIAMANTE+</td>\n",
              "      <td>29.46</td>\n",
              "      <td>27.00</td>\n",
              "      <td>198.92</td>\n",
              "      <td>4477.89</td>\n",
              "      <td>9726.55</td>\n",
              "      <td>14459.82</td>\n",
              "    </tr>\n",
              "    <tr>\n",
              "      <th>2</th>\n",
              "      <td>OURO</td>\n",
              "      <td>0.00</td>\n",
              "      <td>3.08</td>\n",
              "      <td>59.63</td>\n",
              "      <td>1072.55</td>\n",
              "      <td>4634.62</td>\n",
              "      <td>5769.88</td>\n",
              "    </tr>\n",
              "    <tr>\n",
              "      <th>3</th>\n",
              "      <td>PRATA</td>\n",
              "      <td>0.00</td>\n",
              "      <td>0.00</td>\n",
              "      <td>0.25</td>\n",
              "      <td>2.39</td>\n",
              "      <td>1946.05</td>\n",
              "      <td>1948.69</td>\n",
              "    </tr>\n",
              "    <tr>\n",
              "      <th>4</th>\n",
              "      <td>AZUL</td>\n",
              "      <td>0.00</td>\n",
              "      <td>0.00</td>\n",
              "      <td>0.00</td>\n",
              "      <td>0.00</td>\n",
              "      <td>795.89</td>\n",
              "      <td>795.89</td>\n",
              "    </tr>\n",
              "  </tbody>\n",
              "</table>\n",
              "</div>"
            ],
            "text/plain": [
              "  DESCRICAO_NIVEL    2016   2017    2018     2019      2020     TOTAL\n",
              "0        DIAMANTE  221.20  17.09   17.53  4212.99  14538.37  19007.18\n",
              "1       DIAMANTE+   29.46  27.00  198.92  4477.89   9726.55  14459.82\n",
              "2            OURO    0.00   3.08   59.63  1072.55   4634.62   5769.88\n",
              "3           PRATA    0.00   0.00    0.25     2.39   1946.05   1948.69\n",
              "4            AZUL    0.00   0.00    0.00     0.00    795.89    795.89"
            ]
          },
          "metadata": {
            "tags": []
          },
          "execution_count": 42
        }
      ]
    },
    {
      "cell_type": "code",
      "metadata": {
        "colab": {
          "base_uri": "https://localhost:8080/",
          "height": 463
        },
        "id": "rCmTUGTGQ4T1",
        "outputId": "82804ec1-81d2-434c-cb22-ee7aac857533"
      },
      "source": [
        "grafico_linhas(df_amostra4,\"VOLUME DÉBITOS POR NÍVEL DO CLIENTE\",\"DATA\",\"DÉBITO (BRL)\")"
      ],
      "execution_count": null,
      "outputs": [
        {
          "output_type": "display_data",
          "data": {
            "image/png": "[encoded data removed]",
            "text/plain": [
              "<Figure size 720x504 with 1 Axes>"
            ]
          },
          "metadata": {
            "tags": [],
            "needs_background": "light"
          }
        }
      ]
    },
    {
      "cell_type": "markdown",
      "metadata": {
        "id": "_jRoaef6bgVK"
      },
      "source": [
        "# **9.0 TICKET MÉDIO AMOSTRA**"
      ]
    },
    {
      "cell_type": "code",
      "metadata": {
        "colab": {
          "base_uri": "https://localhost:8080/",
          "height": 204
        },
        "id": "0keFRRrCTBai",
        "outputId": "f313e786-67f5-431e-a869-f264dd3bd89a"
      },
      "source": [
        "df_nivel = pd.merge(df_transacoes, df_clientes, on =['CLIENTE'], how = 'left' )\n",
        "df_nivel['DESCRICAO_NIVEL'] = df_nivel['DESCRICAO_NIVEL'].fillna('vazio')\n",
        "df_nivel = df_nivel[(df_nivel['DESCRICAO_NIVEL'])!='vazio'].copy()\n",
        "df_nivel.sort_values(['CLIENTE'] ,ascending = [False])\n",
        "df_nivel = df_nivel.drop(['DEBITO_OU_CREDITO','ID_LISTA_PRESENTES','PEDIDO_BOL','SALDO','MOEDA','FATURA','DATA_CRIACAO','LOJA','IDNIVEL','DT_MUDANCA_PEDRA'], axis = 'columns')\n",
        "df_ticket = df_nivel.groupby([df_nivel['DESCRICAO_NIVEL']]).agg({'SALDO_VC':'sum','DATA_DA_MOVIMENTACAO':'count'}).reset_index(drop = False).copy()\n",
        "df_ticket = df_ticket.rename(columns={'DATA_DA_MOVIMENTACAO':'N_OCORRENCIA'})\n",
        "df_ticket['TICKET_MEDIO'] = (df_ticket['SALDO_VC'] / df_ticket['N_OCORRENCIA']).round(2)\n",
        "df_ticket = df_ticket.sort_values(['TICKET_MEDIO'] ,ascending = [False]).reset_index(drop = False)\n",
        "df_ticket=df_ticket.drop(['index'], axis = 'columns')\n",
        "df_ticket"
      ],
      "execution_count": null,
      "outputs": [
        {
          "output_type": "execute_result",
          "data": {
            "text/html": [
              "<div>\n",
              "<style scoped>\n",
              "    .dataframe tbody tr th:only-of-type {\n",
              "        vertical-align: middle;\n",
              "    }\n",
              "\n",
              "    .dataframe tbody tr th {\n",
              "        vertical-align: top;\n",
              "    }\n",
              "\n",
              "    .dataframe thead th {\n",
              "        text-align: right;\n",
              "    }\n",
              "</style>\n",
              "<table border=\"1\" class=\"dataframe\">\n",
              "  <thead>\n",
              "    <tr style=\"text-align: right;\">\n",
              "      <th></th>\n",
              "      <th>DESCRICAO_NIVEL</th>\n",
              "      <th>SALDO_VC</th>\n",
              "      <th>N_OCORRENCIA</th>\n",
              "      <th>TICKET_MEDIO</th>\n",
              "    </tr>\n",
              "  </thead>\n",
              "  <tbody>\n",
              "    <tr>\n",
              "      <th>0</th>\n",
              "      <td>AZUL</td>\n",
              "      <td>552.34</td>\n",
              "      <td>12</td>\n",
              "      <td>46.03</td>\n",
              "    </tr>\n",
              "    <tr>\n",
              "      <th>1</th>\n",
              "      <td>DIAMANTE+</td>\n",
              "      <td>27322.23</td>\n",
              "      <td>854</td>\n",
              "      <td>31.99</td>\n",
              "    </tr>\n",
              "    <tr>\n",
              "      <th>2</th>\n",
              "      <td>DIAMANTE</td>\n",
              "      <td>13049.63</td>\n",
              "      <td>498</td>\n",
              "      <td>26.20</td>\n",
              "    </tr>\n",
              "    <tr>\n",
              "      <th>3</th>\n",
              "      <td>PRATA</td>\n",
              "      <td>1096.14</td>\n",
              "      <td>92</td>\n",
              "      <td>11.91</td>\n",
              "    </tr>\n",
              "    <tr>\n",
              "      <th>4</th>\n",
              "      <td>OURO</td>\n",
              "      <td>2411.67</td>\n",
              "      <td>222</td>\n",
              "      <td>10.86</td>\n",
              "    </tr>\n",
              "  </tbody>\n",
              "</table>\n",
              "</div>"
            ],
            "text/plain": [
              "  DESCRICAO_NIVEL  SALDO_VC  N_OCORRENCIA  TICKET_MEDIO\n",
              "0            AZUL    552.34            12         46.03\n",
              "1       DIAMANTE+  27322.23           854         31.99\n",
              "2        DIAMANTE  13049.63           498         26.20\n",
              "3           PRATA   1096.14            92         11.91\n",
              "4            OURO   2411.67           222         10.86"
            ]
          },
          "metadata": {
            "tags": []
          },
          "execution_count": 53
        }
      ]
    },
    {
      "cell_type": "code",
      "metadata": {
        "colab": {
          "base_uri": "https://localhost:8080/"
        },
        "id": "_1EEFyn0bGbW",
        "outputId": "ee2cfdf7-219e-49bf-e7a5-ac739eb43c7f"
      },
      "source": [
        "print(f\"Valor Ticket Médio Total Amostra: {df_ticket['SALDO_VC'].sum()/df_ticket['N_OCORRENCIA'].sum():.2f} BRL\")"
      ],
      "execution_count": null,
      "outputs": [
        {
          "output_type": "stream",
          "text": [
            "Valor Ticket Médio Total Amostra: 26.48 BRL\n"
          ],
          "name": "stdout"
        }
      ]
    },
    {
      "cell_type": "code",
      "metadata": {
        "colab": {
          "base_uri": "https://localhost:8080/",
          "height": 419
        },
        "id": "G4nrXSDsbebz",
        "outputId": "ee204f6a-0648-42ce-846e-228599c68235"
      },
      "source": [
        "df_nivel"
      ],
      "execution_count": null,
      "outputs": [
        {
          "output_type": "execute_result",
          "data": {
            "text/html": [
              "<div>\n",
              "<style scoped>\n",
              "    .dataframe tbody tr th:only-of-type {\n",
              "        vertical-align: middle;\n",
              "    }\n",
              "\n",
              "    .dataframe tbody tr th {\n",
              "        vertical-align: top;\n",
              "    }\n",
              "\n",
              "    .dataframe thead th {\n",
              "        text-align: right;\n",
              "    }\n",
              "</style>\n",
              "<table border=\"1\" class=\"dataframe\">\n",
              "  <thead>\n",
              "    <tr style=\"text-align: right;\">\n",
              "      <th></th>\n",
              "      <th>CLIENTE</th>\n",
              "      <th>TIPO_TRANSACAO_VC</th>\n",
              "      <th>VALOR_MOVIMENTADO</th>\n",
              "      <th>DATA_DA_MOVIMENTACAO</th>\n",
              "      <th>DESCRICAO_NIVEL</th>\n",
              "      <th>SALDO_VC</th>\n",
              "    </tr>\n",
              "  </thead>\n",
              "  <tbody>\n",
              "    <tr>\n",
              "      <th>160</th>\n",
              "      <td>1795728</td>\n",
              "      <td>CREDITO_POR_TROCO</td>\n",
              "      <td>0.13</td>\n",
              "      <td>2019-08-03</td>\n",
              "      <td>DIAMANTE+</td>\n",
              "      <td>1.09</td>\n",
              "    </tr>\n",
              "    <tr>\n",
              "      <th>206</th>\n",
              "      <td>1376141</td>\n",
              "      <td>CREDITO_POR_TROCO</td>\n",
              "      <td>0.70</td>\n",
              "      <td>2020-01-02</td>\n",
              "      <td>DIAMANTE</td>\n",
              "      <td>6.53</td>\n",
              "    </tr>\n",
              "    <tr>\n",
              "      <th>363</th>\n",
              "      <td>326711</td>\n",
              "      <td>CREDITO_POR_TROCO</td>\n",
              "      <td>0.53</td>\n",
              "      <td>2019-05-09</td>\n",
              "      <td>DIAMANTE+</td>\n",
              "      <td>2.16</td>\n",
              "    </tr>\n",
              "    <tr>\n",
              "      <th>683</th>\n",
              "      <td>326711</td>\n",
              "      <td>DEBITO_AUTOMATICO_PAG_PRESTACOES</td>\n",
              "      <td>-276.33</td>\n",
              "      <td>2019-12-10</td>\n",
              "      <td>DIAMANTE+</td>\n",
              "      <td>2.16</td>\n",
              "    </tr>\n",
              "    <tr>\n",
              "      <th>941</th>\n",
              "      <td>100916</td>\n",
              "      <td>CREDITO_POR_TROCO</td>\n",
              "      <td>0.78</td>\n",
              "      <td>2019-10-12</td>\n",
              "      <td>DIAMANTE</td>\n",
              "      <td>6.03</td>\n",
              "    </tr>\n",
              "    <tr>\n",
              "      <th>...</th>\n",
              "      <td>...</td>\n",
              "      <td>...</td>\n",
              "      <td>...</td>\n",
              "      <td>...</td>\n",
              "      <td>...</td>\n",
              "      <td>...</td>\n",
              "    </tr>\n",
              "    <tr>\n",
              "      <th>379246</th>\n",
              "      <td>1634009</td>\n",
              "      <td>CREDITO_GERADO_POR_COMPRA_DE_VC</td>\n",
              "      <td>200.00</td>\n",
              "      <td>2019-09-30</td>\n",
              "      <td>DIAMANTE+</td>\n",
              "      <td>251.07</td>\n",
              "    </tr>\n",
              "    <tr>\n",
              "      <th>379304</th>\n",
              "      <td>140895</td>\n",
              "      <td>CREDITO_POR_TROCO</td>\n",
              "      <td>0.15</td>\n",
              "      <td>2018-02-27</td>\n",
              "      <td>DIAMANTE</td>\n",
              "      <td>2.83</td>\n",
              "    </tr>\n",
              "    <tr>\n",
              "      <th>379686</th>\n",
              "      <td>1796883</td>\n",
              "      <td>CREDITO_PREMIACAO_FUNCIONARIO</td>\n",
              "      <td>40.00</td>\n",
              "      <td>2020-01-21</td>\n",
              "      <td>DIAMANTE</td>\n",
              "      <td>0.00</td>\n",
              "    </tr>\n",
              "    <tr>\n",
              "      <th>380189</th>\n",
              "      <td>315364</td>\n",
              "      <td>CREDITO_GERADO_POR_COMPRA_DE_VC</td>\n",
              "      <td>220.00</td>\n",
              "      <td>2019-07-07</td>\n",
              "      <td>DIAMANTE+</td>\n",
              "      <td>49.77</td>\n",
              "    </tr>\n",
              "    <tr>\n",
              "      <th>380305</th>\n",
              "      <td>2055517</td>\n",
              "      <td>DEBITO_PAGAMENTO_COM_VC</td>\n",
              "      <td>-0.21</td>\n",
              "      <td>2017-08-10</td>\n",
              "      <td>DIAMANTE</td>\n",
              "      <td>0.95</td>\n",
              "    </tr>\n",
              "  </tbody>\n",
              "</table>\n",
              "<p>1678 rows × 6 columns</p>\n",
              "</div>"
            ],
            "text/plain": [
              "        CLIENTE                 TIPO_TRANSACAO_VC  ...  DESCRICAO_NIVEL SALDO_VC\n",
              "160     1795728                 CREDITO_POR_TROCO  ...        DIAMANTE+     1.09\n",
              "206     1376141                 CREDITO_POR_TROCO  ...         DIAMANTE     6.53\n",
              "363      326711                 CREDITO_POR_TROCO  ...        DIAMANTE+     2.16\n",
              "683      326711  DEBITO_AUTOMATICO_PAG_PRESTACOES  ...        DIAMANTE+     2.16\n",
              "941      100916                 CREDITO_POR_TROCO  ...         DIAMANTE     6.03\n",
              "...         ...                               ...  ...              ...      ...\n",
              "379246  1634009   CREDITO_GERADO_POR_COMPRA_DE_VC  ...        DIAMANTE+   251.07\n",
              "379304   140895                 CREDITO_POR_TROCO  ...         DIAMANTE     2.83\n",
              "379686  1796883     CREDITO_PREMIACAO_FUNCIONARIO  ...         DIAMANTE     0.00\n",
              "380189   315364   CREDITO_GERADO_POR_COMPRA_DE_VC  ...        DIAMANTE+    49.77\n",
              "380305  2055517           DEBITO_PAGAMENTO_COM_VC  ...         DIAMANTE     0.95\n",
              "\n",
              "[1678 rows x 6 columns]"
            ]
          },
          "metadata": {
            "tags": []
          },
          "execution_count": 55
        }
      ]
    },
    {
      "cell_type": "code",
      "metadata": {
        "colab": {
          "base_uri": "https://localhost:8080/",
          "height": 281
        },
        "id": "tcrrQ88Rdswi",
        "outputId": "f129ea57-ffc9-4f3a-8ab9-fbbf60836a17"
      },
      "source": [
        "import datetime\n",
        "fig = plt.figure(figsize=(15,20))\n",
        "axes = fig.add_subplot(111)\n",
        "\n",
        "\n",
        "\n",
        "diamanteCred =[]\n",
        "dataDiamanteCred = []\n",
        "diamanteDeb = []\n",
        "dataDiamanteDeb = []\n",
        "\n",
        "diamanteplusCred =[]\n",
        "dataDiamanteplusCred = []\n",
        "diamanteplusDeb = []\n",
        "dataDiamanteplusDeb = []\n",
        "\n",
        "ouroCred =[]\n",
        "dataOuroCred =[]\n",
        "ouroDeb = []\n",
        "dataOuroDeb = []\n",
        "\n",
        "prataCred =[]\n",
        "dataPrataCred =[]\n",
        "prataDeb = []\n",
        "dataPrataDeb = []\n",
        "\n",
        "azulCred =[]\n",
        "dataAzulCred = []\n",
        "azulDeb =[]\n",
        "dataAzulDeb = []\n",
        "\n",
        "todasLinhas = df_nivel.values.tolist()\n",
        "for linha in todasLinhas:\n",
        "  if linha[4] == \"DIAMANTE\":\n",
        "    if linha[2] > 0:\n",
        "      diamanteCred.append(linha[2])\n",
        "      dataDiamanteCred.append(linha[3])\n",
        "    else:\n",
        "      diamanteDeb.append(linha[2])\n",
        "      dataDiamanteDeb.append(linha[3])\n",
        "  elif linha[4] == \"DIAMANTE+\":\n",
        "    if linha[2] > 0:\n",
        "      diamanteplusCred.append(linha[2])\n",
        "      dataDiamanteplusCred.append(linha[3])\n",
        "    else:\n",
        "      diamanteplusDeb.append(linha[2])\n",
        "      dataDiamanteplusDeb.append(linha[3])\n",
        "  elif linha[4] == \"OURO\":\n",
        "    if linha[2] > 0:\n",
        "      ouroCred.append(linha[2])\n",
        "      dataOuroCred.append(linha[3])\n",
        "    else:\n",
        "      ouroDeb.append(linha[2])\n",
        "      dataOuroDeb.append(linha[3])\n",
        "  elif linha[4] == \"PRATA\":\n",
        "    if linha[2] > 0:\n",
        "      prataCred.append(linha[2])\n",
        "      dataPrataCred.append(linha[3])\n",
        "    else:\n",
        "      prataDeb.append(linha[2])\n",
        "      dataPrataDeb.append(linha[3])\n",
        "  else:\n",
        "    if linha[2] > 0:\n",
        "      azulCred.append(linha[2])\n",
        "      dataAzulCred.append(linha[3])\n",
        "    else:\n",
        "      azulDeb.append(linha[2])\n",
        "      dataAzulDeb.append(linha[3])\n",
        "#------------------------------------------------------------\n",
        "explode = []\n",
        "        \n",
        "# cria rótulo no eixo x\n",
        "axes.set_xlabel( 'Data da Movimentação', color='b')\n",
        "# cria rótulo no eixo y\n",
        "axes.set_ylabel( 'Valor Movimentado (BRL)', color='b') \n",
        "# Cria um título para o gráfico\n",
        "axes.set_title('TITULO') \n",
        "\n",
        "#PRIMEIRO GRÁFICO\n",
        "axes.scatter(dataDiamanteCred,diamanteCred,color='red',s=5,edgecolor='none')\n",
        "#deixa os eixos quadrados\n",
        "axes.set_aspect(1./axes.get_data_ratio()) \n",
        "\n",
        "\n",
        "#SEGUNDO GRÁFICO\n",
        "axes.scatter(dataDiamanteplusCred,diamanteplusCred,color='black',s=5,edgecolor='none')\n",
        "#deixa os eixos quadrados\n",
        "axes.set_aspect(1./axes.get_data_ratio())\n",
        "\n",
        "\n",
        "#TERCEIRO GRÁFICO\n",
        "axes.scatter(dataOuroCred,ouroCred,color='yellow',s=5,edgecolor='none')\n",
        "#deixa os eixos quadrados\n",
        "axes.set_aspect(1./axes.get_data_ratio())\n",
        "\n",
        "\n",
        "#QUARTO GRÁFICO\n",
        "axes.scatter(dataAzulCred,azulCred,color='blue',s=5,edgecolor='none')\n",
        "#deixa os eixos quadrados\n",
        "axes.set_aspect(1./axes.get_data_ratio()) \n",
        "\n",
        "plt.xlim(\n",
        "    xmin=datetime.datetime(2020, 2, 9, hour=13),\n",
        "    xmax=datetime.datetime(2020, 4, 4, hour=13)\n",
        ")\n",
        "plt.ylim(ymax = 15, ymin = 0)\n",
        "plt.show()\n",
        "\n"
      ],
      "execution_count": null,
      "outputs": [
        {
          "output_type": "display_data",
          "data": {
            "image/png": "[encoded data removed]",
            "text/plain": [
              "<Figure size 1080x1440 with 1 Axes>"
            ]
          },
          "metadata": {
            "tags": [],
            "needs_background": "light"
          }
        }
      ]
    }
  ]
}